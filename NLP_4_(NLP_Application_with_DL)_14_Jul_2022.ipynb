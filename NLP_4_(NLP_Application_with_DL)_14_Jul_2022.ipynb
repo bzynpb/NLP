{
  "cells": [
    {
      "cell_type": "markdown",
      "metadata": {
        "id": "6X73SBpsMP26"
      },
      "source": [
        "## NLP with DL"
      ]
    },
    {
      "cell_type": "code",
      "execution_count": 1,
      "metadata": {
        "colab": {
          "base_uri": "https://localhost:8080/"
        },
        "id": "cgJ_HalfMSVB",
        "outputId": "c95fc59b-8e1f-4563-fe5e-6f1367a8a306"
      },
      "outputs": [
        {
          "output_type": "stream",
          "name": "stdout",
          "text": [
            "Mounted at /content/drive\n"
          ]
        }
      ],
      "source": [
        "from google.colab import drive\n",
        "drive.mount('/content/drive')"
      ]
    },
    {
      "cell_type": "markdown",
      "metadata": {
        "id": "0Y6XdY0zMP3B"
      },
      "source": [
        "## Import libraries"
      ]
    },
    {
      "cell_type": "code",
      "execution_count": 2,
      "metadata": {
        "id": "yt8uihaEMP3B"
      },
      "outputs": [],
      "source": [
        "import numpy as np\n",
        "import pandas as pd\n",
        "from tensorflow.keras.models import Sequential\n",
        "from tensorflow.keras.layers import Dense, GRU, Embedding, Dropout\n",
        "from tensorflow.keras.optimizers import Adam\n",
        "from tensorflow.keras.preprocessing.text import Tokenizer\n",
        "from tensorflow.keras.preprocessing.sequence import pad_sequences"
      ]
    },
    {
      "cell_type": "code",
      "execution_count": 3,
      "metadata": {
        "id": "lN-e8sK4MP3D"
      },
      "outputs": [],
      "source": [
        "df = pd.read_csv('/content/drive/MyDrive/hepsiburada.csv')"
      ]
    },
    {
      "cell_type": "code",
      "execution_count": 4,
      "metadata": {
        "colab": {
          "base_uri": "https://localhost:8080/",
          "height": 206
        },
        "id": "kBw6YugKMP3D",
        "outputId": "7695b31f-6455-4603-a068-8849b16abd6b"
      },
      "outputs": [
        {
          "output_type": "execute_result",
          "data": {
            "text/plain": [
              "   Rating                                             Review\n",
              "0       1                            3 yıldır tık demedi. :)\n",
              "1       1                      3 yıldır kullanıyorum müthiş \n",
              "2       1  Ürün bugün elime geçti çok fazla inceleme fırs...\n",
              "3       1  Almaya karar verdim. Hemencecik geldi. Keyifle...\n",
              "4       1  Günlük kullanımınızı çok çok iyi karsılıyor kı..."
            ],
            "text/html": [
              "\n",
              "  <div id=\"df-5f5331fc-1024-40fe-ae33-68ee172eb1a4\">\n",
              "    <div class=\"colab-df-container\">\n",
              "      <div>\n",
              "<style scoped>\n",
              "    .dataframe tbody tr th:only-of-type {\n",
              "        vertical-align: middle;\n",
              "    }\n",
              "\n",
              "    .dataframe tbody tr th {\n",
              "        vertical-align: top;\n",
              "    }\n",
              "\n",
              "    .dataframe thead th {\n",
              "        text-align: right;\n",
              "    }\n",
              "</style>\n",
              "<table border=\"1\" class=\"dataframe\">\n",
              "  <thead>\n",
              "    <tr style=\"text-align: right;\">\n",
              "      <th></th>\n",
              "      <th>Rating</th>\n",
              "      <th>Review</th>\n",
              "    </tr>\n",
              "  </thead>\n",
              "  <tbody>\n",
              "    <tr>\n",
              "      <th>0</th>\n",
              "      <td>1</td>\n",
              "      <td>3 yıldır tık demedi. :)</td>\n",
              "    </tr>\n",
              "    <tr>\n",
              "      <th>1</th>\n",
              "      <td>1</td>\n",
              "      <td>3 yıldır kullanıyorum müthiş</td>\n",
              "    </tr>\n",
              "    <tr>\n",
              "      <th>2</th>\n",
              "      <td>1</td>\n",
              "      <td>Ürün bugün elime geçti çok fazla inceleme fırs...</td>\n",
              "    </tr>\n",
              "    <tr>\n",
              "      <th>3</th>\n",
              "      <td>1</td>\n",
              "      <td>Almaya karar verdim. Hemencecik geldi. Keyifle...</td>\n",
              "    </tr>\n",
              "    <tr>\n",
              "      <th>4</th>\n",
              "      <td>1</td>\n",
              "      <td>Günlük kullanımınızı çok çok iyi karsılıyor kı...</td>\n",
              "    </tr>\n",
              "  </tbody>\n",
              "</table>\n",
              "</div>\n",
              "      <button class=\"colab-df-convert\" onclick=\"convertToInteractive('df-5f5331fc-1024-40fe-ae33-68ee172eb1a4')\"\n",
              "              title=\"Convert this dataframe to an interactive table.\"\n",
              "              style=\"display:none;\">\n",
              "        \n",
              "  <svg xmlns=\"http://www.w3.org/2000/svg\" height=\"24px\"viewBox=\"0 0 24 24\"\n",
              "       width=\"24px\">\n",
              "    <path d=\"M0 0h24v24H0V0z\" fill=\"none\"/>\n",
              "    <path d=\"M18.56 5.44l.94 2.06.94-2.06 2.06-.94-2.06-.94-.94-2.06-.94 2.06-2.06.94zm-11 1L8.5 8.5l.94-2.06 2.06-.94-2.06-.94L8.5 2.5l-.94 2.06-2.06.94zm10 10l.94 2.06.94-2.06 2.06-.94-2.06-.94-.94-2.06-.94 2.06-2.06.94z\"/><path d=\"M17.41 7.96l-1.37-1.37c-.4-.4-.92-.59-1.43-.59-.52 0-1.04.2-1.43.59L10.3 9.45l-7.72 7.72c-.78.78-.78 2.05 0 2.83L4 21.41c.39.39.9.59 1.41.59.51 0 1.02-.2 1.41-.59l7.78-7.78 2.81-2.81c.8-.78.8-2.07 0-2.86zM5.41 20L4 18.59l7.72-7.72 1.47 1.35L5.41 20z\"/>\n",
              "  </svg>\n",
              "      </button>\n",
              "      \n",
              "  <style>\n",
              "    .colab-df-container {\n",
              "      display:flex;\n",
              "      flex-wrap:wrap;\n",
              "      gap: 12px;\n",
              "    }\n",
              "\n",
              "    .colab-df-convert {\n",
              "      background-color: #E8F0FE;\n",
              "      border: none;\n",
              "      border-radius: 50%;\n",
              "      cursor: pointer;\n",
              "      display: none;\n",
              "      fill: #1967D2;\n",
              "      height: 32px;\n",
              "      padding: 0 0 0 0;\n",
              "      width: 32px;\n",
              "    }\n",
              "\n",
              "    .colab-df-convert:hover {\n",
              "      background-color: #E2EBFA;\n",
              "      box-shadow: 0px 1px 2px rgba(60, 64, 67, 0.3), 0px 1px 3px 1px rgba(60, 64, 67, 0.15);\n",
              "      fill: #174EA6;\n",
              "    }\n",
              "\n",
              "    [theme=dark] .colab-df-convert {\n",
              "      background-color: #3B4455;\n",
              "      fill: #D2E3FC;\n",
              "    }\n",
              "\n",
              "    [theme=dark] .colab-df-convert:hover {\n",
              "      background-color: #434B5C;\n",
              "      box-shadow: 0px 1px 3px 1px rgba(0, 0, 0, 0.15);\n",
              "      filter: drop-shadow(0px 1px 2px rgba(0, 0, 0, 0.3));\n",
              "      fill: #FFFFFF;\n",
              "    }\n",
              "  </style>\n",
              "\n",
              "      <script>\n",
              "        const buttonEl =\n",
              "          document.querySelector('#df-5f5331fc-1024-40fe-ae33-68ee172eb1a4 button.colab-df-convert');\n",
              "        buttonEl.style.display =\n",
              "          google.colab.kernel.accessAllowed ? 'block' : 'none';\n",
              "\n",
              "        async function convertToInteractive(key) {\n",
              "          const element = document.querySelector('#df-5f5331fc-1024-40fe-ae33-68ee172eb1a4');\n",
              "          const dataTable =\n",
              "            await google.colab.kernel.invokeFunction('convertToInteractive',\n",
              "                                                     [key], {});\n",
              "          if (!dataTable) return;\n",
              "\n",
              "          const docLinkHtml = 'Like what you see? Visit the ' +\n",
              "            '<a target=\"_blank\" href=https://colab.research.google.com/notebooks/data_table.ipynb>data table notebook</a>'\n",
              "            + ' to learn more about interactive tables.';\n",
              "          element.innerHTML = '';\n",
              "          dataTable['output_type'] = 'display_data';\n",
              "          await google.colab.output.renderOutput(dataTable, element);\n",
              "          const docLink = document.createElement('div');\n",
              "          docLink.innerHTML = docLinkHtml;\n",
              "          element.appendChild(docLink);\n",
              "        }\n",
              "      </script>\n",
              "    </div>\n",
              "  </div>\n",
              "  "
            ]
          },
          "metadata": {},
          "execution_count": 4
        }
      ],
      "source": [
        "df.head()"
      ]
    },
    {
      "cell_type": "code",
      "execution_count": 5,
      "metadata": {
        "colab": {
          "base_uri": "https://localhost:8080/"
        },
        "id": "Wd9UfbvsSWJ5",
        "outputId": "5335a679-aaca-433e-c465-3250e1260745"
      },
      "outputs": [
        {
          "output_type": "stream",
          "name": "stdout",
          "text": [
            "<class 'pandas.core.frame.DataFrame'>\n",
            "RangeIndex: 243497 entries, 0 to 243496\n",
            "Data columns (total 2 columns):\n",
            " #   Column  Non-Null Count   Dtype \n",
            "---  ------  --------------   ----- \n",
            " 0   Rating  243497 non-null  int64 \n",
            " 1   Review  243497 non-null  object\n",
            "dtypes: int64(1), object(1)\n",
            "memory usage: 3.7+ MB\n"
          ]
        }
      ],
      "source": [
        "df.info()"
      ]
    },
    {
      "cell_type": "code",
      "source": [
        "df.Rating = df.Rating.map({1:0, 0:1})"
      ],
      "metadata": {
        "id": "0zmMhW2hwN1m"
      },
      "execution_count": 6,
      "outputs": []
    },
    {
      "cell_type": "code",
      "source": [
        "df.Rating.value_counts()"
      ],
      "metadata": {
        "colab": {
          "base_uri": "https://localhost:8080/"
        },
        "id": "0mrjCQ9wwSCs",
        "outputId": "9fb1af96-582b-403a-920d-1fa3876201c5"
      },
      "execution_count": 7,
      "outputs": [
        {
          "output_type": "execute_result",
          "data": {
            "text/plain": [
              "0    229821\n",
              "1     13676\n",
              "Name: Rating, dtype: int64"
            ]
          },
          "metadata": {},
          "execution_count": 7
        }
      ]
    },
    {
      "cell_type": "code",
      "execution_count": 8,
      "metadata": {
        "colab": {
          "base_uri": "https://localhost:8080/"
        },
        "id": "2l26CUKCSaig",
        "outputId": "3492a316-0519-4260-de4f-7596c38f5e63"
      },
      "outputs": [
        {
          "output_type": "execute_result",
          "data": {
            "text/plain": [
              "0    0.943835\n",
              "1    0.056165\n",
              "Name: Rating, dtype: float64"
            ]
          },
          "metadata": {},
          "execution_count": 8
        }
      ],
      "source": [
        "df.Rating.value_counts(normalize=True)"
      ]
    },
    {
      "cell_type": "markdown",
      "metadata": {
        "id": "ErzHzxUOMP3F"
      },
      "source": [
        "## Tokenization"
      ]
    },
    {
      "cell_type": "code",
      "execution_count": 9,
      "metadata": {
        "id": "amDd007iMP3F"
      },
      "outputs": [],
      "source": [
        "X = df['Review']\n",
        "y = df['Rating']"
      ]
    },
    {
      "cell_type": "code",
      "execution_count": 10,
      "metadata": {
        "id": "3ltwlIS9MP3G"
      },
      "outputs": [],
      "source": [
        "num_words = 15000 # corpusta geçen en fazla kullanılan ilk 15.000 kelimeyi(tokeni) alacağız gerisini yok sayacağız. \n",
        "# None değeri atanırsa tüm kelimeler dikkate alınır.\n",
        "tokenizer = Tokenizer(num_words=num_words) #filters='!\"#$%&()*+,-./:;<=>?@[\\\\]^_`{|}~\\t\\n1234567890' "
      ]
    },
    {
      "cell_type": "code",
      "execution_count": 11,
      "metadata": {
        "id": "7QnzlbfrMP3H"
      },
      "outputs": [],
      "source": [
        "tokenizer.fit_on_texts(X)"
      ]
    },
    {
      "cell_type": "markdown",
      "metadata": {
        "id": "qbBLA65iMP3I"
      },
      "source": [
        "## Creating word index"
      ]
    },
    {
      "cell_type": "code",
      "execution_count": 12,
      "metadata": {
        "colab": {
          "base_uri": "https://localhost:8080/"
        },
        "id": "ujCeRckiMP3I",
        "outputId": "81eb2f61-4704-49cd-e1ef-498141bc73e5"
      },
      "outputs": [
        {
          "output_type": "execute_result",
          "data": {
            "text/plain": [
              "{'çok': 1,\n",
              " 'bir': 2,\n",
              " 've': 3,\n",
              " 'ürün': 4,\n",
              " 'bu': 5,\n",
              " 'iyi': 6,\n",
              " 'güzel': 7,\n",
              " 'için': 8,\n",
              " 'tavsiye': 9,\n",
              " 'ederim': 10,\n",
              " 'daha': 11,\n",
              " 'ama': 12,\n",
              " 'da': 13,\n",
              " 'gayet': 14,\n",
              " 'hızlı': 15,\n",
              " 'teşekkürler': 16,\n",
              " 'aldım': 17,\n",
              " 'de': 18,\n",
              " 'ürünü': 19,\n",
              " 'gibi': 20,\n",
              " 'yok': 21,\n",
              " 'uygun': 22,\n",
              " 'olarak': 23,\n",
              " 'kaliteli': 24,\n",
              " 'en': 25,\n",
              " '2': 26,\n",
              " 'kargo': 27,\n",
              " 'fiyat': 28,\n",
              " 'elime': 29,\n",
              " 'kadar': 30,\n",
              " 'ile': 31,\n",
              " 'göre': 32,\n",
              " 'geldi': 33,\n",
              " 'var': 34,\n",
              " 'hepsiburada': 35,\n",
              " 'ben': 36,\n",
              " 'gerçekten': 37,\n",
              " '1': 38,\n",
              " 'fiyata': 39,\n",
              " 'gün': 40,\n",
              " 'sonra': 41,\n",
              " 'cok': 42,\n",
              " 'kesinlikle': 43,\n",
              " 'telefon': 44,\n",
              " 'biraz': 45,\n",
              " 'hiç': 46,\n",
              " 'ulaştı': 47,\n",
              " 'memnun': 48,\n",
              " 'hem': 49,\n",
              " 'değil': 50,\n",
              " 'kullanışlı': 51,\n",
              " '3': 52,\n",
              " 'mükemmel': 53,\n",
              " 'oldu': 54,\n",
              " 'kullanıyorum': 55,\n",
              " 'önce': 56,\n",
              " 'sipariş': 57,\n",
              " 'tek': 58,\n",
              " 'her': 59,\n",
              " 'bence': 60,\n",
              " 'harika': 61,\n",
              " 'kalitesi': 62,\n",
              " 'bi': 63,\n",
              " 'ayrıca': 64,\n",
              " '5': 65,\n",
              " 'teşekkür': 66,\n",
              " 'fiyatı': 67,\n",
              " 'olması': 68,\n",
              " 'ne': 69,\n",
              " 'herkese': 70,\n",
              " 'bile': 71,\n",
              " 'uzun': 72,\n",
              " 'süper': 73,\n",
              " 'tam': 74,\n",
              " 'zaten': 75,\n",
              " 'fazla': 76,\n",
              " 'ilk': 77,\n",
              " 'o': 78,\n",
              " 'başarılı': 79,\n",
              " 'fakat': 80,\n",
              " 'memnunum': 81,\n",
              " 'ancak': 82,\n",
              " 'ediyorum': 83,\n",
              " 'şarj': 84,\n",
              " 'saat': 85,\n",
              " 'fiyatına': 86,\n",
              " 'oldukça': 87,\n",
              " 'hemen': 88,\n",
              " 'şekilde': 89,\n",
              " 'ses': 90,\n",
              " 'hepsi': 91,\n",
              " 'gerek': 92,\n",
              " 'rahat': 93,\n",
              " 'aynı': 94,\n",
              " '4': 95,\n",
              " 'şık': 96,\n",
              " 'verdim': 97,\n",
              " 'kolay': 98,\n",
              " 'diye': 99,\n",
              " 'ki': 100,\n",
              " 'sadece': 101,\n",
              " 'kaldım': 102,\n",
              " 'diğer': 103,\n",
              " 'büyük': 104,\n",
              " 'sorun': 105,\n",
              " 'alın': 106,\n",
              " 'burada': 107,\n",
              " 'kısa': 108,\n",
              " 'ürünün': 109,\n",
              " 'sorunsuz': 110,\n",
              " 'performans': 111,\n",
              " 'içinde': 112,\n",
              " 'olan': 113,\n",
              " 'günde': 114,\n",
              " 'olsun': 115,\n",
              " 'küçük': 116,\n",
              " 'urun': 117,\n",
              " '10': 118,\n",
              " 'benim': 119,\n",
              " 'başka': 120,\n",
              " 'iki': 121,\n",
              " 'olduğu': 122,\n",
              " 'teslimat': 123,\n",
              " 'com': 124,\n",
              " 'arkadaşlar': 125,\n",
              " 'sağlam': 126,\n",
              " 'oluyor': 127,\n",
              " 'teslim': 128,\n",
              " 'ettim': 129,\n",
              " 'zaman': 130,\n",
              " 'kalite': 131,\n",
              " 'almak': 132,\n",
              " 'az': 133,\n",
              " 'telefonu': 134,\n",
              " 'yeni': 135,\n",
              " 'cihaz': 136,\n",
              " 'marka': 137,\n",
              " 'son': 138,\n",
              " 'koku': 139,\n",
              " 'ise': 140,\n",
              " 'kullandım': 141,\n",
              " 'kokusu': 142,\n",
              " 'derim': 143,\n",
              " 'olduğunu': 144,\n",
              " 'özellikle': 145,\n",
              " 'beğendim': 146,\n",
              " 'sıkıntı': 147,\n",
              " 'ucuz': 148,\n",
              " 'rağmen': 149,\n",
              " 'geçti': 150,\n",
              " 'geliyor': 151,\n",
              " 'guzel': 152,\n",
              " 'bana': 153,\n",
              " 'ya': 154,\n",
              " 'ideal': 155,\n",
              " 'orjinal': 156,\n",
              " 'almıştım': 157,\n",
              " 'yeterli': 158,\n",
              " 'tane': 159,\n",
              " 'hediye': 160,\n",
              " 'sürede': 161,\n",
              " 'yani': 162,\n",
              " 'normal': 163,\n",
              " 'yaklaşık': 164,\n",
              " 'ediyor': 165,\n",
              " 'hafif': 166,\n",
              " 'bunu': 167,\n",
              " 'ekran': 168,\n",
              " 'aldığım': 169,\n",
              " 'veriyor': 170,\n",
              " '6': 171,\n",
              " 'yüksek': 172,\n",
              " 'tüm': 173,\n",
              " 'pişman': 174,\n",
              " 'tercih': 175,\n",
              " 'düşünmeden': 176,\n",
              " 'kötü': 177,\n",
              " 'düşünüyorum': 178,\n",
              " 'numara': 179,\n",
              " 'bi̇r': 180,\n",
              " 'süre': 181,\n",
              " 'kullanımı': 182,\n",
              " 'çıktı': 183,\n",
              " 'günü': 184,\n",
              " 'su': 185,\n",
              " 'adet': 186,\n",
              " 'şey': 187,\n",
              " 'hemde': 188,\n",
              " 'icin': 189,\n",
              " 'hizli': 190,\n",
              " 'çalışıyor': 191,\n",
              " 'ay': 192,\n",
              " 'hb': 193,\n",
              " 'hafta': 194,\n",
              " 'sesi': 195,\n",
              " 'alışveriş': 196,\n",
              " 'farklı': 197,\n",
              " 'kitap': 198,\n",
              " 'yine': 199,\n",
              " 'böyle': 200,\n",
              " 'zor': 201,\n",
              " 'alabilirsiniz': 202,\n",
              " 'hızı': 203,\n",
              " 'çünkü': 204,\n",
              " 'para': 205,\n",
              " 'ertesi': 206,\n",
              " 'bende': 207,\n",
              " 'kullanım': 208,\n",
              " 'sürekli': 209,\n",
              " 'duruyor': 210,\n",
              " 'aldim': 211,\n",
              " 'olur': 212,\n",
              " 'hoş': 213,\n",
              " 'artık': 214,\n",
              " 'yapıyor': 215,\n",
              " 'konusunda': 216,\n",
              " 'yorumlara': 217,\n",
              " 'gönderi': 218,\n",
              " 'olsa': 219,\n",
              " 'gücü': 220,\n",
              " 'şu': 221,\n",
              " 'vardı': 222,\n",
              " 'üründen': 223,\n",
              " 'malzeme': 224,\n",
              " 'biri': 225,\n",
              " 'pratik': 226,\n",
              " 'dışında': 227,\n",
              " 'defa': 228,\n",
              " 'kullandığım': 229,\n",
              " 'şimdi': 230,\n",
              " 'diş': 231,\n",
              " 'samsung': 232,\n",
              " 'onun': 233,\n",
              " 'bugün': 234,\n",
              " 'özelliği': 235,\n",
              " 'iş': 236,\n",
              " 'kurulumu': 237,\n",
              " 'tereddüt': 238,\n",
              " 'şarjı': 239,\n",
              " 'i̇lk': 240,\n",
              " '7': 241,\n",
              " 'ince': 242,\n",
              " 'gelen': 243,\n",
              " 'kullanmaya': 244,\n",
              " 'diyebilirim': 245,\n",
              " 'almayı': 246,\n",
              " 'pek': 247,\n",
              " 'aldık': 248,\n",
              " 'denedim': 249,\n",
              " '8': 250,\n",
              " 'tekrar': 251,\n",
              " 'çabuk': 252,\n",
              " 'karar': 253,\n",
              " 'kez': 254,\n",
              " 'sahip': 255,\n",
              " 'kendi': 256,\n",
              " 'basit': 257,\n",
              " 'dolayı': 258,\n",
              " 'derece': 259,\n",
              " 'veya': 260,\n",
              " 'kamera': 261,\n",
              " 'pil': 262,\n",
              " 'hiçbir': 263,\n",
              " 'öncelikle': 264,\n",
              " 'açısından': 265,\n",
              " 'iphone': 266,\n",
              " 'sonuç': 267,\n",
              " 'yanında': 268,\n",
              " 'sessiz': 269,\n",
              " 'pahalı': 270,\n",
              " 'işe': 271,\n",
              " 'gidiyor': 272,\n",
              " 'dan': 273,\n",
              " 'olmadı': 274,\n",
              " 'öyle': 275,\n",
              " 'tesekkurler': 276,\n",
              " 'bunun': 277,\n",
              " 'beni': 278,\n",
              " 'varsa': 279,\n",
              " 'yer': 280,\n",
              " 'gece': 281,\n",
              " 'zamanında': 282,\n",
              " 'yorum': 283,\n",
              " 'performansı': 284,\n",
              " 'parfüm': 285,\n",
              " 'evde': 286,\n",
              " 'belli': 287,\n",
              " 'eğer': 288,\n",
              " 'oyun': 289,\n",
              " 'ağır': 290,\n",
              " 'iyisi': 291,\n",
              " 'arada': 292,\n",
              " 'mutlaka': 293,\n",
              " 'zamanda': 294,\n",
              " 'usb': 295,\n",
              " 'ufak': 296,\n",
              " 'üzerinde': 297,\n",
              " 'hatta': 298,\n",
              " 'fark': 299,\n",
              " 'gönül': 300,\n",
              " 'paketleme': 301,\n",
              " 'eşim': 302,\n",
              " 'alacak': 303,\n",
              " '15': 304,\n",
              " 'gereken': 305,\n",
              " 'doğru': 306,\n",
              " 'eski': 307,\n",
              " 'herhangi': 308,\n",
              " 'aydır': 309,\n",
              " 'tl': 310,\n",
              " 'kalıcı': 311,\n",
              " 'rahatlıkla': 312,\n",
              " 'vs': 313,\n",
              " 'satın': 314,\n",
              " 'alınabilecek': 315,\n",
              " 'bundan': 316,\n",
              " 'farkı': 317,\n",
              " 'görüntü': 318,\n",
              " 'lazım': 319,\n",
              " 'gercekten': 320,\n",
              " 'şiddetle': 321,\n",
              " 'kullanmak': 322,\n",
              " 'kaçırmayın': 323,\n",
              " 'alırken': 324,\n",
              " 'kargoya': 325,\n",
              " 'yaşamadım': 326,\n",
              " 'mi': 327,\n",
              " 'yaptım': 328,\n",
              " 'prima': 329,\n",
              " 'birlikte': 330,\n",
              " 'gördüm': 331,\n",
              " 'gerekiyor': 332,\n",
              " 'telefonun': 333,\n",
              " 'ürünler': 334,\n",
              " 'ayrı': 335,\n",
              " 'önemli': 336,\n",
              " 'sayesinde': 337,\n",
              " 'bütün': 338,\n",
              " 'yıl': 339,\n",
              " 'gb': 340,\n",
              " 'alalı': 341,\n",
              " 'beklediğimden': 342,\n",
              " 'almaya': 343,\n",
              " 'yerde': 344,\n",
              " 'olmasına': 345,\n",
              " 'tv': 346,\n",
              " 'sabah': 347,\n",
              " 'devam': 348,\n",
              " 'kutu': 349,\n",
              " 'henüz': 350,\n",
              " 'falan': 351,\n",
              " 'sorunu': 352,\n",
              " 'tabi': 353,\n",
              " 'a': 354,\n",
              " '20': 355,\n",
              " 'bakarak': 356,\n",
              " 'sanırım': 357,\n",
              " 'hepsiburadaya': 358,\n",
              " 'kulaklık': 359,\n",
              " 'süresi': 360,\n",
              " 'hala': 361,\n",
              " 'muhteşem': 362,\n",
              " 'dikkat': 363,\n",
              " 'güvenilir': 364,\n",
              " 'rahatsız': 365,\n",
              " 'edilir': 366,\n",
              " 'çıkıyor': 367,\n",
              " 'alıp': 368,\n",
              " 'yüzden': 369,\n",
              " 'toz': 370,\n",
              " 'kere': 371,\n",
              " 'orijinal': 372,\n",
              " 'sağlıyor': 373,\n",
              " 'kamerası': 374,\n",
              " 'dün': 375,\n",
              " 'ürüne': 376,\n",
              " 'düşük': 377,\n",
              " 'spor': 378,\n",
              " 'i̇yi': 379,\n",
              " 'problem': 380,\n",
              " 'öneririm': 381,\n",
              " 'edildi': 382,\n",
              " 'plastik': 383,\n",
              " 'içerisinde': 384,\n",
              " 'makine': 385,\n",
              " 'beri': 386,\n",
              " 'fazlasıyla': 387,\n",
              " 'baya': 388,\n",
              " 'kullanımda': 389,\n",
              " '30': 390,\n",
              " 'tavsi̇ye': 391,\n",
              " 'an': 392,\n",
              " 'yalnız': 393,\n",
              " 'özellikleri': 394,\n",
              " 'on': 395,\n",
              " 'den': 396,\n",
              " 'satıcı': 397,\n",
              " 'ilgili': 398,\n",
              " 'genel': 399,\n",
              " 'oldum': 400,\n",
              " 'kaç': 401,\n",
              " 'etkili': 402,\n",
              " 'sıcak': 403,\n",
              " 'haftadır': 404,\n",
              " 'üstelik': 405,\n",
              " 'fiyatıda': 406,\n",
              " 'olmuş': 407,\n",
              " '24': 408,\n",
              " 'yada': 409,\n",
              " 'hep': 410,\n",
              " 'üst': 411,\n",
              " 'olabilir': 412,\n",
              " 'paket': 413,\n",
              " 'bazı': 414,\n",
              " 'almışım': 415,\n",
              " 'güçlü': 416,\n",
              " 'piyasada': 417,\n",
              " 'yerine': 418,\n",
              " 'arasında': 419,\n",
              " 'renk': 420,\n",
              " 'inanılmaz': 421,\n",
              " 'arkadaşlara': 422,\n",
              " 'paraya': 423,\n",
              " 'kurulum': 424,\n",
              " 'umarım': 425,\n",
              " 'sert': 426,\n",
              " 'kitabı': 427,\n",
              " 'ederi̇m': 428,\n",
              " 'olmuyor': 429,\n",
              " 'fena': 430,\n",
              " 'gitti': 431,\n",
              " 'servis': 432,\n",
              " 'altında': 433,\n",
              " 'üzerine': 434,\n",
              " 'nasıl': 435,\n",
              " 'birde': 436,\n",
              " 'ye': 437,\n",
              " 'gelince': 438,\n",
              " 'birşey': 439,\n",
              " 'note': 440,\n",
              " 'yorumları': 441,\n",
              " 'başladım': 442,\n",
              " 'olanlar': 443,\n",
              " 'ön': 444,\n",
              " '0': 445,\n",
              " 'dk': 446,\n",
              " 'üründe': 447,\n",
              " 'sanki': 448,\n",
              " 'kalitesini': 449,\n",
              " 'i̇yi̇': 450,\n",
              " 'sarj': 451,\n",
              " 'almadan': 452,\n",
              " 'etti': 453,\n",
              " 'alıyorum': 454,\n",
              " 'ev': 455,\n",
              " 'cihazı': 456,\n",
              " 'kullanıyoruz': 457,\n",
              " 'geç': 458,\n",
              " 'eşime': 459,\n",
              " 'görünce': 460,\n",
              " 'memnunuz': 461,\n",
              " 'yıldır': 462,\n",
              " 'edici': 463,\n",
              " 'bez': 464,\n",
              " 'arka': 465,\n",
              " 'saatte': 466,\n",
              " 'anda': 467,\n",
              " 'tamamen': 468,\n",
              " 'hizmet': 469,\n",
              " 'çekim': 470,\n",
              " 'herkes': 471,\n",
              " 'parmak': 472,\n",
              " 'akşam': 473,\n",
              " 'tutuyor': 474,\n",
              " 'geçen': 475,\n",
              " 'gore': 476,\n",
              " 'android': 477,\n",
              " 'elimize': 478,\n",
              " '12': 479,\n",
              " 'telefona': 480,\n",
              " 'temizlik': 481,\n",
              " 'görünüyor': 482,\n",
              " 'yumuşak': 483,\n",
              " 'kablo': 484,\n",
              " 'buradan': 485,\n",
              " '100': 486,\n",
              " 'kısmı': 487,\n",
              " 'size': 488,\n",
              " 'orta': 489,\n",
              " 'piyasadaki': 490,\n",
              " 'net': 491,\n",
              " 'hak': 492,\n",
              " 'yere': 493,\n",
              " 'günlük': 494,\n",
              " 'beğendi': 495,\n",
              " 'rahatlığıyla': 496,\n",
              " 'eder': 497,\n",
              " 'hız': 498,\n",
              " 'müzik': 499,\n",
              " 'kalın': 500,\n",
              " 'siyah': 501,\n",
              " 'urunu': 502,\n",
              " 'degil': 503,\n",
              " 'bedava': 504,\n",
              " 'istediğim': 505,\n",
              " 'oğlum': 506,\n",
              " 'saç': 507,\n",
              " 'güvenli': 508,\n",
              " 'kılıf': 509,\n",
              " 'onu': 510,\n",
              " 'yıldız': 511,\n",
              " 'yoksa': 512,\n",
              " 'çıkan': 513,\n",
              " 'hesaplı': 514,\n",
              " 'etmeden': 515,\n",
              " 'hava': 516,\n",
              " 'piyasaya': 517,\n",
              " 'kilo': 518,\n",
              " 'ışık': 519,\n",
              " 'neredeyse': 520,\n",
              " 'fotoğraf': 521,\n",
              " 'i̇çi̇n': 522,\n",
              " 'tşk': 523,\n",
              " 'belki': 524,\n",
              " 'olurdu': 525,\n",
              " 'kablosu': 526,\n",
              " 'bır': 527,\n",
              " 'mı': 528,\n",
              " 'gündür': 529,\n",
              " 'temiz': 530,\n",
              " 'garantili': 531,\n",
              " 'içine': 532,\n",
              " 'alınabilir': 533,\n",
              " 'herşey': 534,\n",
              " 'almanızı': 535,\n",
              " 'siparişi': 536,\n",
              " 'olmaz': 537,\n",
              " 'keşke': 538,\n",
              " 'kendini': 539,\n",
              " 'olacak': 540,\n",
              " 'yakın': 541,\n",
              " 'rengi': 542,\n",
              " 'gun': 543,\n",
              " 'süpürge': 544,\n",
              " 'traş': 545,\n",
              " 'çift': 546,\n",
              " 'şuan': 547,\n",
              " 'gönderim': 548,\n",
              " 'buna': 549,\n",
              " 'motor': 550,\n",
              " 'birkaç': 551,\n",
              " 'hoşuma': 552,\n",
              " 'tasarımı': 553,\n",
              " 'kaldık': 554,\n",
              " 'verdiğim': 555,\n",
              " 'hic': 556,\n",
              " 'değer': 557,\n",
              " 'yağ': 558,\n",
              " 'ekonomik': 559,\n",
              " 'dedim': 560,\n",
              " 'tatmin': 561,\n",
              " 'isteyenlere': 562,\n",
              " 'içinden': 563,\n",
              " 'araştırdım': 564,\n",
              " 'oda': 565,\n",
              " 'yıllardır': 566,\n",
              " 'mevcut': 567,\n",
              " 'kızım': 568,\n",
              " 'kalıyor': 569,\n",
              " 'yapmak': 570,\n",
              " 'buldum': 571,\n",
              " 'şimdilik': 572,\n",
              " 'yanı': 573,\n",
              " 'makina': 574,\n",
              " 'görüyor': 575,\n",
              " 'model': 576,\n",
              " 'kargoda': 577,\n",
              " 'kaldı': 578,\n",
              " '9': 579,\n",
              " 'üstünde': 580,\n",
              " 'avantaj': 581,\n",
              " 'sizi': 582,\n",
              " 'alet': 583,\n",
              " 'müthiş': 584,\n",
              " 'metal': 585,\n",
              " 'ürünleri': 586,\n",
              " 'mouse': 587,\n",
              " 'beraber': 588,\n",
              " 'bebek': 589,\n",
              " 'kullanıyordum': 590,\n",
              " 'geri': 591,\n",
              " 'ederiz': 592,\n",
              " 'başta': 593,\n",
              " 'makul': 594,\n",
              " 'olmazsınız': 595,\n",
              " 'apple': 596,\n",
              " 'yaptı': 597,\n",
              " 'okudum': 598,\n",
              " 'elimde': 599,\n",
              " 'görür': 600,\n",
              " 'olduğundan': 601,\n",
              " 'fiyatının': 602,\n",
              " 'açık': 603,\n",
              " 'üzerinden': 604,\n",
              " 'aşırı': 605,\n",
              " 'özellik': 606,\n",
              " 'e': 607,\n",
              " 'olanlara': 608,\n",
              " 'izi': 609,\n",
              " 'garanti': 610,\n",
              " 'film': 611,\n",
              " 'biz': 612,\n",
              " 'yavaş': 613,\n",
              " 'ucuza': 614,\n",
              " 'bişey': 615,\n",
              " 'tartışılmaz': 616,\n",
              " 'sene': 617,\n",
              " 'super': 618,\n",
              " 'site': 619,\n",
              " 'birçok': 620,\n",
              " 'ücretsiz': 621,\n",
              " 'sonunda': 622,\n",
              " 'ısınma': 623,\n",
              " 'saati': 624,\n",
              " 'batarya': 625,\n",
              " 'kapalı': 626,\n",
              " 'olumsuz': 627,\n",
              " 'alan': 628,\n",
              " 'hediyesi': 629,\n",
              " 'kullaniyorum': 630,\n",
              " 'yapmıyor': 631,\n",
              " 'eve': 632,\n",
              " 'evet': 633,\n",
              " 'önceki': 634,\n",
              " 'sık': 635,\n",
              " 'hakkını': 636,\n",
              " 'beklediğim': 637,\n",
              " 'kelimeyle': 638,\n",
              " 'beyaz': 639,\n",
              " 'zorunda': 640,\n",
              " 'üç': 641,\n",
              " 'kat': 642,\n",
              " 'telefonda': 643,\n",
              " 'tasarım': 644,\n",
              " 'dakika': 645,\n",
              " 'etmek': 646,\n",
              " 'uyumlu': 647,\n",
              " 'önceden': 648,\n",
              " 'olunca': 649,\n",
              " 'severek': 650,\n",
              " 'isteyenler': 651,\n",
              " 'diyorum': 652,\n",
              " 'çanta': 653,\n",
              " 'el': 654,\n",
              " 'istedim': 655,\n",
              " 'iyiki': 656,\n",
              " 'kullanın': 657,\n",
              " 'yoktu': 658,\n",
              " 'sıkıntısı': 659,\n",
              " 'ikinci': 660,\n",
              " 'yorumlarda': 661,\n",
              " 'çekiyor': 662,\n",
              " 'bilmiyorum': 663,\n",
              " 'kullanma': 664,\n",
              " 'araç': 665,\n",
              " 'edin': 666,\n",
              " 'görüntüsü': 667,\n",
              " 'firma': 668,\n",
              " 'alıyor': 669,\n",
              " 'hepsi̇burada': 670,\n",
              " 'alt': 671,\n",
              " 'olmadan': 672,\n",
              " 'bazen': 673,\n",
              " 'dayanıklı': 674,\n",
              " 'olmaması': 675,\n",
              " 'ona': 676,\n",
              " 'iade': 677,\n",
              " 'fiyatlı': 678,\n",
              " 'internet': 679,\n",
              " 'geniş': 680,\n",
              " 'philips': 681,\n",
              " 'koltuk': 682,\n",
              " 'elimdeydi': 683,\n",
              " 'kullanan': 684,\n",
              " 'yaparken': 685,\n",
              " 'derecede': 686,\n",
              " 'asla': 687,\n",
              " '16': 688,\n",
              " 'kalitede': 689,\n",
              " 'taktım': 690,\n",
              " 'resmen': 691,\n",
              " 'eden': 692,\n",
              " 'halde': 693,\n",
              " 'merhaba': 694,\n",
              " 'mukemmel': 695,\n",
              " 'hassas': 696,\n",
              " 'başladı': 697,\n",
              " 'zarar': 698,\n",
              " 'kalitesiz': 699,\n",
              " 'aylık': 700,\n",
              " 'açıkçası': 701,\n",
              " 'mutlu': 702,\n",
              " 'alin': 703,\n",
              " 'yeri': 704,\n",
              " 'ram': 705,\n",
              " 'neden': 706,\n",
              " 'eksiksiz': 707,\n",
              " 'paketlenmiş': 708,\n",
              " 'idi': 709,\n",
              " 'idare': 710,\n",
              " 'iyiydi': 711,\n",
              " 'olabilirdi': 712,\n",
              " 'yarıyor': 713,\n",
              " 'gerekli': 714,\n",
              " 'olduğum': 715,\n",
              " '50': 716,\n",
              " 'parfümü': 717,\n",
              " 'buradaya': 718,\n",
              " 'kelime': 719,\n",
              " 'herkesin': 720,\n",
              " 'olmasi': 721,\n",
              " 'ara': 722,\n",
              " 'verildi': 723,\n",
              " 'yoğun': 724,\n",
              " 'etkisi': 725,\n",
              " 'vermeye': 726,\n",
              " 'saçlarım': 727,\n",
              " 'siz': 728,\n",
              " 'kullanıyor': 729,\n",
              " 'b': 730,\n",
              " '40': 731,\n",
              " 'zamandır': 732,\n",
              " 'yapan': 733,\n",
              " 'olmayan': 734,\n",
              " 'yorumlar': 735,\n",
              " 'ayrica': 736,\n",
              " 'yinede': 737,\n",
              " 'kendim': 738,\n",
              " 'ulasti': 739,\n",
              " 'hafıza': 740,\n",
              " 'etmiyor': 741,\n",
              " 'almış': 742,\n",
              " 'yapılmış': 743,\n",
              " 'verdikten': 744,\n",
              " 'kendime': 745,\n",
              " 'yedek': 746,\n",
              " 'düşünenlere': 747,\n",
              " 'durum': 748,\n",
              " 'sonuçta': 749,\n",
              " 'yerden': 750,\n",
              " 'etmiyorum': 751,\n",
              " 'video': 752,\n",
              " 'çekiş': 753,\n",
              " 'cuma': 754,\n",
              " 'cam': 755,\n",
              " 'uygulama': 756,\n",
              " 'içi': 757,\n",
              " 'işi': 758,\n",
              " 'eksik': 759,\n",
              " 'ihtiyacı': 760,\n",
              " 'eksiği': 761,\n",
              " 'faydalı': 762,\n",
              " 'göz': 763,\n",
              " 'deneme': 764,\n",
              " 'isteyen': 765,\n",
              " 'acaba': 766,\n",
              " 'kısacası': 767,\n",
              " 'kullanabilirsiniz': 768,\n",
              " 'merak': 769,\n",
              " 'temizliyor': 770,\n",
              " 'ürünle': 771,\n",
              " 'rahatlığı': 772,\n",
              " 'p': 773,\n",
              " 'türkiye': 774,\n",
              " 'hepsiburadadan': 775,\n",
              " 'aldı': 776,\n",
              " 'görmedim': 777,\n",
              " 'test': 778,\n",
              " 'ana': 779,\n",
              " 'aldıktan': 780,\n",
              " 'aleti': 781,\n",
              " 'şimdiye': 782,\n",
              " 'yapıyorum': 783,\n",
              " 'olumlu': 784,\n",
              " 'hakkında': 785,\n",
              " 'piyasa': 786,\n",
              " 'ekranı': 787,\n",
              " 'mümkün': 788,\n",
              " 'kış': 789,\n",
              " 'siparis': 790,\n",
              " 'd': 791,\n",
              " 'malı': 792,\n",
              " 'elinize': 793,\n",
              " 'km': 794,\n",
              " 'gösteriyor': 795,\n",
              " 'haricinde': 796,\n",
              " 'donma': 797,\n",
              " 'denemek': 798,\n",
              " 'türlü': 799,\n",
              " 'i': 800,\n",
              " 'alacaklara': 801,\n",
              " 'elde': 802,\n",
              " 'dış': 803,\n",
              " 'dokunmatik': 804,\n",
              " 'gerçek': 805,\n",
              " 'tabiki': 806,\n",
              " 'ürünlere': 807,\n",
              " 'boyutu': 808,\n",
              " 'hissi': 809,\n",
              " 'söyleyebilirim': 810,\n",
              " 'cabası': 811,\n",
              " 'kaldim': 812,\n",
              " 'emiş': 813,\n",
              " 'kanal': 814,\n",
              " 'takip': 815,\n",
              " 'problemi': 816,\n",
              " 'tavsiyem': 817,\n",
              " 'kargolama': 818,\n",
              " 'aslında': 819,\n",
              " 'dahi': 820,\n",
              " 'yardımcı': 821,\n",
              " 'akıcı': 822,\n",
              " 'ütü': 823,\n",
              " 'konuda': 824,\n",
              " 'hayırlı': 825,\n",
              " 'değilim': 826,\n",
              " 'herkeze': 827,\n",
              " 'karşı': 828,\n",
              " 'markanın': 829,\n",
              " 'kutusu': 830,\n",
              " 'elektrik': 831,\n",
              " 'yaz': 832,\n",
              " 'yerli': 833,\n",
              " 'tavsıye': 834,\n",
              " 'emin': 835,\n",
              " 's': 836,\n",
              " 'lg': 837,\n",
              " 'once': 838,\n",
              " 'araba': 839,\n",
              " 'pazartesi': 840,\n",
              " 'f': 841,\n",
              " 'kullandıktan': 842,\n",
              " 'yatak': 843,\n",
              " 'zarif': 844,\n",
              " 'gelir': 845,\n",
              " 'beden': 846,\n",
              " 'özel': 847,\n",
              " 'ciddi': 848,\n",
              " 'kontrol': 849,\n",
              " 'olmak': 850,\n",
              " 'i̇ki': 851,\n",
              " 'zamanla': 852,\n",
              " 'fayda': 853,\n",
              " 'istiyorsanız': 854,\n",
              " 'bağlantı': 855,\n",
              " 'sıfır': 856,\n",
              " 'çıkmadı': 857,\n",
              " 'ayni': 858,\n",
              " 'parasını': 859,\n",
              " 'fön': 860,\n",
              " 'anladım': 861,\n",
              " 'düzgün': 862,\n",
              " 'olmadığı': 863,\n",
              " 'fiyatını': 864,\n",
              " 'kibar': 865,\n",
              " 'veren': 866,\n",
              " 'sağlıklı': 867,\n",
              " 'birisi': 868,\n",
              " 'soğuk': 869,\n",
              " 'montaj': 870,\n",
              " 'klasik': 871,\n",
              " 'parça': 872,\n",
              " 'yarım': 873,\n",
              " 'telefondan': 874,\n",
              " 'okuma': 875,\n",
              " 'makinesi': 876,\n",
              " 'verilen': 877,\n",
              " 'düzenli': 878,\n",
              " 'düşünmeyin': 879,\n",
              " 'kullanılabilir': 880,\n",
              " 'koruyucu': 881,\n",
              " 'anneme': 882,\n",
              " 'hale': 883,\n",
              " 'ömrü': 884,\n",
              " 'kalitesine': 885,\n",
              " 'bulmak': 886,\n",
              " 'kullanmadım': 887,\n",
              " 'saglam': 888,\n",
              " 'normalde': 889,\n",
              " 'cm': 890,\n",
              " 'xiaomi': 891,\n",
              " 'beklemeyin': 892,\n",
              " 'çoğu': 893,\n",
              " 'pili': 894,\n",
              " 'çocuk': 895,\n",
              " 'bakımından': 896,\n",
              " 'birebir': 897,\n",
              " 'yazma': 898,\n",
              " 'boyu': 899,\n",
              " 'hareket': 900,\n",
              " 'siteden': 901,\n",
              " 'cihazın': 902,\n",
              " 'led': 903,\n",
              " 'tahmin': 904,\n",
              " 'kapak': 905,\n",
              " 'bilgisayar': 906,\n",
              " 'ısınıyor': 907,\n",
              " 'eksi': 908,\n",
              " 'gelmesi': 909,\n",
              " 'kalmadı': 910,\n",
              " 'begendim': 911,\n",
              " 'kullanisli': 912,\n",
              " 'verip': 913,\n",
              " 'günden': 914,\n",
              " 'kaçmaz': 915,\n",
              " 'sürükleyici': 916,\n",
              " 'sonucu': 917,\n",
              " 'markası': 918,\n",
              " 'indirim': 919,\n",
              " 'oranı': 920,\n",
              " 'arkadaşım': 921,\n",
              " 'telefonum': 922,\n",
              " 'temizliği': 923,\n",
              " 'şarjlı': 924,\n",
              " 'kullanırken': 925,\n",
              " 'zayıf': 926,\n",
              " 'tesekkur': 927,\n",
              " 'çıkarıyor': 928,\n",
              " 'karşıladı': 929,\n",
              " 'sistemi': 930,\n",
              " 'akıllı': 931,\n",
              " 'ortalama': 932,\n",
              " 'direk': 933,\n",
              " 'alınır': 934,\n",
              " 'olsaydı': 935,\n",
              " 'arkadaslar': 936,\n",
              " 'profesyonel': 937,\n",
              " 'boşuna': 938,\n",
              " 'hd': 939,\n",
              " 'sony': 940,\n",
              " 'iç': 941,\n",
              " 'ekstra': 942,\n",
              " 'yi': 943,\n",
              " 'kuru': 944,\n",
              " 'sonrası': 945,\n",
              " 'almayın': 946,\n",
              " 'lik': 947,\n",
              " 'kusursuz': 948,\n",
              " 'başlık': 949,\n",
              " 'seviyede': 950,\n",
              " 'bluetooth': 951,\n",
              " 'kullanmıştım': 952,\n",
              " 'burda': 953,\n",
              " 'genelde': 954,\n",
              " 'kokuyu': 955,\n",
              " 'olacağını': 956,\n",
              " 'siparişim': 957,\n",
              " 'burdan': 958,\n",
              " 'kampanya': 959,\n",
              " 'nin': 960,\n",
              " 'olanı': 961,\n",
              " 'vestel': 962,\n",
              " 'alacağım': 963,\n",
              " 'tarafı': 964,\n",
              " 'insan': 965,\n",
              " 'artı': 966,\n",
              " 'paketi': 967,\n",
              " 'ayarı': 968,\n",
              " 'karşılıyor': 969,\n",
              " 'üstüne': 970,\n",
              " 'premium': 971,\n",
              " 'kalıcılığı': 972,\n",
              " 'eminim': 973,\n",
              " 'olup': 974,\n",
              " 'ürünlerden': 975,\n",
              " 'malzemesi': 976,\n",
              " 'mavi': 977,\n",
              " 'buradaki': 978,\n",
              " 'markalara': 979,\n",
              " 'parlak': 980,\n",
              " 'söz': 981,\n",
              " 'ergonomik': 982,\n",
              " 'yaptığım': 983,\n",
              " 'kendisi': 984,\n",
              " 'düşünen': 985,\n",
              " 'hızlıydı': 986,\n",
              " 'kasma': 987,\n",
              " 'fiyatta': 988,\n",
              " 'enerji': 989,\n",
              " 'kolayca': 990,\n",
              " 'yan': 991,\n",
              " 'pc': 992,\n",
              " '00': 993,\n",
              " 'bol': 994,\n",
              " 'kablosuz': 995,\n",
              " 'full': 996,\n",
              " 'işinizi': 997,\n",
              " 'modeli': 998,\n",
              " 'oturuyor': 999,\n",
              " 'kişi': 1000,\n",
              " ...}"
            ]
          },
          "metadata": {},
          "execution_count": 12
        }
      ],
      "source": [
        "tokenizer.word_index"
      ]
    },
    {
      "cell_type": "code",
      "execution_count": 13,
      "metadata": {
        "colab": {
          "base_uri": "https://localhost:8080/"
        },
        "id": "01oWtDTTMP3J",
        "outputId": "e422c8f7-9222-4681-9967-62de4fcc0fbe"
      },
      "outputs": [
        {
          "output_type": "execute_result",
          "data": {
            "text/plain": [
              "217983"
            ]
          },
          "metadata": {},
          "execution_count": 13
        }
      ],
      "source": [
        "len(tokenizer.word_index)"
      ]
    },
    {
      "cell_type": "markdown",
      "metadata": {
        "id": "1sENSxrzMP3J"
      },
      "source": [
        "## Converting tokens to numeric"
      ]
    },
    {
      "cell_type": "code",
      "execution_count": 14,
      "metadata": {
        "id": "OL-LESXtMP3J"
      },
      "outputs": [],
      "source": [
        "X_num_tokens = tokenizer.texts_to_sequences(X)"
      ]
    },
    {
      "cell_type": "code",
      "execution_count": 15,
      "metadata": {
        "colab": {
          "base_uri": "https://localhost:8080/",
          "height": 54
        },
        "id": "UR0ED18aMP3K",
        "outputId": "c7e71c8f-9ca4-41de-8bfe-5fe1d35dac8d"
      },
      "outputs": [
        {
          "output_type": "execute_result",
          "data": {
            "text/plain": [
              "'Logitech ürünlerinin geneli kalite olarak çok iyidir. Adedini tam saymadım ama 10 un üzerinde kendime akrabalarıma arkadaşlarıma almışımdır hepside memnunlar. İhtiyacı olan kaçırmasın başkada ürün aramasın derim.'"
            ],
            "application/vnd.google.colaboratory.intrinsic+json": {
              "type": "string"
            }
          },
          "metadata": {},
          "execution_count": 15
        }
      ],
      "source": [
        "X[105]"
      ]
    },
    {
      "cell_type": "code",
      "execution_count": 16,
      "metadata": {
        "colab": {
          "base_uri": "https://localhost:8080/"
        },
        "id": "sFpOQBoqMP3K",
        "outputId": "9b228306-29bb-4ef6-b49e-70fbfa03ecc0"
      },
      "outputs": [
        {
          "output_type": "stream",
          "name": "stdout",
          "text": [
            "[1816, 5360, 131, 23, 1, 1849, 74, 12, 118, 1533, 297, 745, 3216, 13402, 6326, 5030, 2463, 113, 2534, 8858, 4, 143]\n"
          ]
        }
      ],
      "source": [
        "print(X_num_tokens[105])"
      ]
    },
    {
      "cell_type": "markdown",
      "source": [
        "## Maximum number of tokens for all documents"
      ],
      "metadata": {
        "id": "hMRq6Oh90GXq"
      }
    },
    {
      "cell_type": "code",
      "execution_count": 17,
      "metadata": {
        "colab": {
          "base_uri": "https://localhost:8080/"
        },
        "id": "h8qwAwEHMP3L",
        "outputId": "f5919658-82d6-4a41-81da-6da1f0445df4"
      },
      "outputs": [
        {
          "output_type": "execute_result",
          "data": {
            "text/plain": [
              "22"
            ]
          },
          "metadata": {},
          "execution_count": 17
        }
      ],
      "source": [
        "len(X_num_tokens[105])"
      ]
    },
    {
      "cell_type": "code",
      "execution_count": 18,
      "metadata": {
        "colab": {
          "base_uri": "https://localhost:8080/"
        },
        "id": "1E-ySfDiMP3M",
        "outputId": "4223566b-2389-40c2-afb7-03940f45d19e"
      },
      "outputs": [
        {
          "output_type": "execute_result",
          "data": {
            "text/plain": [
              "18"
            ]
          },
          "metadata": {},
          "execution_count": 18
        }
      ],
      "source": [
        "len(X_num_tokens[106])"
      ]
    },
    {
      "cell_type": "code",
      "execution_count": 19,
      "metadata": {
        "colab": {
          "base_uri": "https://localhost:8080/"
        },
        "id": "mOQfFfutfMTn",
        "outputId": "97f0b89f-d444-45ac-c57c-f7e8ebed0e23"
      },
      "outputs": [
        {
          "output_type": "execute_result",
          "data": {
            "text/plain": [
              "88"
            ]
          },
          "metadata": {},
          "execution_count": 19
        }
      ],
      "source": [
        "len(X_num_tokens[6150])"
      ]
    },
    {
      "cell_type": "code",
      "execution_count": 20,
      "metadata": {
        "id": "dp7-tP7MMP3M"
      },
      "outputs": [],
      "source": [
        "num_tokens = [len(tokens) for tokens in X_num_tokens]\n",
        "num_tokens = np.array(num_tokens)"
      ]
    },
    {
      "cell_type": "code",
      "source": [
        "num_tokens"
      ],
      "metadata": {
        "colab": {
          "base_uri": "https://localhost:8080/"
        },
        "id": "9hO5Jgp8VG5B",
        "outputId": "e5cc524c-585a-44af-c197-9c6e58dd699f"
      },
      "execution_count": 21,
      "outputs": [
        {
          "output_type": "execute_result",
          "data": {
            "text/plain": [
              "array([ 4,  4, 66, ...,  4, 10, 38])"
            ]
          },
          "metadata": {},
          "execution_count": 21
        }
      ]
    },
    {
      "cell_type": "code",
      "execution_count": 22,
      "metadata": {
        "colab": {
          "base_uri": "https://localhost:8080/"
        },
        "id": "4mIHsbiDMP3N",
        "outputId": "dc3a0f57-4c6f-4a69-8e70-ccda8f9525d9"
      },
      "outputs": [
        {
          "output_type": "execute_result",
          "data": {
            "text/plain": [
              "21.36101060793357"
            ]
          },
          "metadata": {},
          "execution_count": 22
        }
      ],
      "source": [
        "num_tokens.mean()"
      ]
    },
    {
      "cell_type": "code",
      "execution_count": 23,
      "metadata": {
        "colab": {
          "base_uri": "https://localhost:8080/"
        },
        "id": "c-iTNs-0MP3N",
        "outputId": "b0f348a8-76fe-4ff4-e6ed-c4d0787a71dd"
      },
      "outputs": [
        {
          "output_type": "execute_result",
          "data": {
            "text/plain": [
              "298"
            ]
          },
          "metadata": {},
          "execution_count": 23
        }
      ],
      "source": [
        "num_tokens.max()"
      ]
    },
    {
      "cell_type": "code",
      "execution_count": 24,
      "metadata": {
        "colab": {
          "base_uri": "https://localhost:8080/"
        },
        "id": "Wdpbr6TPMP3O",
        "outputId": "1f1de8a9-9119-4547-fca1-77f573d36e27"
      },
      "outputs": [
        {
          "output_type": "execute_result",
          "data": {
            "text/plain": [
              "21941"
            ]
          },
          "metadata": {},
          "execution_count": 24
        }
      ],
      "source": [
        "num_tokens.argmax() # listedeki en uzun yorumun indexini argmax ile bulabiliyoruz."
      ]
    },
    {
      "cell_type": "code",
      "execution_count": 25,
      "metadata": {
        "colab": {
          "base_uri": "https://localhost:8080/",
          "height": 127
        },
        "id": "bv29eaR2MP3P",
        "outputId": "31653aa2-4cca-4d41-a4a2-3c3244de896b"
      },
      "outputs": [
        {
          "output_type": "execute_result",
          "data": {
            "text/plain": [
              "'Özellikle bu kısma yazıyorum iyice okuyunuz,cihazın hızı çok iyi.Isınma normal boyutlarda.Kamerası elinizi sabit tutarsanız ve gündüz çok net gece ise çok net çekmez.Görüntülü konuşma özelliği yok ancak uygulama ile olur,anten çekimi gayet iyi.Parmak izi okuyucusu gayet hızlı bazen tuşu silmenizi istiyor ve okuyamıyor kirden vs...Ön kamera da tatmin edici,çekim esnasında ekran beyaz ışık vererek flaş görevi görür.Batarya bana 1 hafta gidiyor sık kullanımda ise 2-3 gün gidiyor.Hızlı şarj 1 saatte doluyor , şekilleri ele oturuyor ve şık bir görüntü var.Telefonu aldığım gün gittim ve ilk girdiğim yerden ekran koruyucu ve kılıf buldum.Kulaklık sesi çok net ve yüksek ancak kendi hoparlörü biraz zayıf sesi.Ekrana bakarken açık kalma özelliği yok.Diğer akıllı cihaz özellikleri %90 ı bu cihazda mevcut.Güç tasarrufu 2 ayrı modu var ve çok başarılı çalışıyor.4gb ram var genelde yarısı boş kalıyor.Bir de yeni cihazların çoğu titreşimi az ve sesi de az çıkıyor.Bu cihaz da içine dahil...Bu cihazlar güncelleme almaz ve rom bulunmuyormuş.Benim için güncelleme sorun olmaz -cihaz parasına göre s serisi ile yarışıyor çünkü.Biraz metal olmasından dolayı elden kolay kaysada duruşu ve gösterişi iyidir.Çift flaşı var arkada.Kısaca şöyle ki bu fiyata bu ürün alınır.5 aydır kullanıyorum kasma donma felan zaten olmaz,bataryası iyi,şekli iyi,özellikler de iyi....En büyük kafa karıştıran soru şu ki hadi cihaz arıza yaptı veya düştü ekranı kırıldı.Bunun bir servisi var,ithalatçı garantisi de var.Cihazın adı sanı belli...Parça bulanmaz tamir olmaz derseniz size kalmış.Zaten normal bir cihazı da düşürseniz farkedermi?.Güncelleme almaz diyorlar bu konuda düşünebilirsiniz.S serisi cihazlarla hızını kıyaslarsınız ama güncelleme ile araya fark koymuşlar.İki katı fiyata satılan cihazla farkı olmasa zaten olmaz değil mi?Almayı düşünenler başka bir cihazla kıyas yapacaksa yine  7pro veya 9 baksınlar.C5 pro da biraz boyutu kısa ve kibar....Sonuçta ömürlük değil alın fazla düşünmeyin'"
            ],
            "application/vnd.google.colaboratory.intrinsic+json": {
              "type": "string"
            }
          },
          "metadata": {},
          "execution_count": 25
        }
      ],
      "source": [
        "X[21941]"
      ]
    },
    {
      "cell_type": "code",
      "execution_count": 26,
      "metadata": {
        "colab": {
          "base_uri": "https://localhost:8080/"
        },
        "id": "_W8AuJEcfe7s",
        "outputId": "560a09b3-4f91-40b6-862e-0040cd8c639c"
      },
      "outputs": [
        {
          "output_type": "execute_result",
          "data": {
            "text/plain": [
              "298"
            ]
          },
          "metadata": {},
          "execution_count": 26
        }
      ],
      "source": [
        "len(X_num_tokens[21941])"
      ]
    },
    {
      "cell_type": "code",
      "execution_count": 27,
      "metadata": {
        "colab": {
          "base_uri": "https://localhost:8080/"
        },
        "id": "66JrdJCtMP3P",
        "outputId": "13466d78-8b17-4981-8b2f-c43f0fe87248"
      },
      "outputs": [
        {
          "output_type": "stream",
          "name": "stdout",
          "text": [
            "[ True  True  True  True False False]\n",
            "4\n",
            "0.6666666666666666\n"
          ]
        }
      ],
      "source": [
        "list = [5, 10, 8, 9, 12, 15]\n",
        "print(np.array(list) < 11)\n",
        "print(sum(np.array(list) < 11))\n",
        "print(sum(np.array(list) < 11)/len(list))"
      ]
    },
    {
      "cell_type": "code",
      "execution_count": 28,
      "metadata": {
        "id": "-k5VZDpjMP3Q"
      },
      "outputs": [],
      "source": [
        "max_tokens = 61"
      ]
    },
    {
      "cell_type": "code",
      "execution_count": 29,
      "metadata": {
        "colab": {
          "base_uri": "https://localhost:8080/"
        },
        "id": "Xal4WMNoMP3Q",
        "outputId": "785fe1bf-0c61-4875-e49e-55950ed801b2"
      },
      "outputs": [
        {
          "output_type": "execute_result",
          "data": {
            "text/plain": [
              "0.9598968365113328"
            ]
          },
          "metadata": {},
          "execution_count": 29
        }
      ],
      "source": [
        "sum(num_tokens < max_tokens) / len(num_tokens)"
      ]
    },
    {
      "cell_type": "code",
      "execution_count": 30,
      "metadata": {
        "colab": {
          "base_uri": "https://localhost:8080/"
        },
        "id": "M2U7lFjMMP3R",
        "outputId": "a9474f78-af10-493e-bdd5-8fbbf18aa02b"
      },
      "outputs": [
        {
          "output_type": "execute_result",
          "data": {
            "text/plain": [
              "233732"
            ]
          },
          "metadata": {},
          "execution_count": 30
        }
      ],
      "source": [
        "sum(num_tokens < max_tokens)"
      ]
    },
    {
      "cell_type": "code",
      "execution_count": 31,
      "metadata": {
        "colab": {
          "base_uri": "https://localhost:8080/"
        },
        "id": "1lGeDqduMP3R",
        "outputId": "59f27d7e-03a8-4e7d-b69b-de6f163abc1b"
      },
      "outputs": [
        {
          "output_type": "execute_result",
          "data": {
            "text/plain": [
              "243497"
            ]
          },
          "metadata": {},
          "execution_count": 31
        }
      ],
      "source": [
        "len(num_tokens)"
      ]
    },
    {
      "cell_type": "markdown",
      "metadata": {
        "id": "fvfHyoaKMP3R"
      },
      "source": [
        "## Fixing token counts of all documents (pad_sequences)"
      ]
    },
    {
      "cell_type": "code",
      "execution_count": 32,
      "metadata": {
        "id": "bs3CarRdMP3R"
      },
      "outputs": [],
      "source": [
        "X_pad = pad_sequences(X_num_tokens, maxlen=max_tokens)"
      ]
    },
    {
      "cell_type": "code",
      "execution_count": 33,
      "metadata": {
        "colab": {
          "base_uri": "https://localhost:8080/"
        },
        "id": "NJsSbXm_MP3S",
        "outputId": "3aafb56a-28e7-4916-8818-f7b7d8113a2e"
      },
      "outputs": [
        {
          "output_type": "execute_result",
          "data": {
            "text/plain": [
              "(243497, 61)"
            ]
          },
          "metadata": {},
          "execution_count": 33
        }
      ],
      "source": [
        "X_pad.shape"
      ]
    },
    {
      "cell_type": "code",
      "execution_count": 34,
      "metadata": {
        "colab": {
          "base_uri": "https://localhost:8080/"
        },
        "id": "9byUlLyPMP3S",
        "outputId": "be2aec18-d5e2-4854-88f5-c97786fc349f"
      },
      "outputs": [
        {
          "output_type": "execute_result",
          "data": {
            "text/plain": [
              "array([  19,  341,   52,  194,   30,   54, 7992,   55,  209,  603, 7887,\n",
              "          3,   36,  114,  164,  479,   85,    1, 1682,  782,   30,    2,\n",
              "        380,  326,    3,    1,   81,  132,  562,    9,   10])"
            ]
          },
          "metadata": {},
          "execution_count": 34
        }
      ],
      "source": [
        "np.array(X_num_tokens[800])"
      ]
    },
    {
      "cell_type": "code",
      "source": [
        "len(np.array(X_num_tokens[800]))"
      ],
      "metadata": {
        "colab": {
          "base_uri": "https://localhost:8080/"
        },
        "id": "58PMSYooYApW",
        "outputId": "43da48fd-0c63-46b7-9976-80833896157f"
      },
      "execution_count": 35,
      "outputs": [
        {
          "output_type": "execute_result",
          "data": {
            "text/plain": [
              "31"
            ]
          },
          "metadata": {},
          "execution_count": 35
        }
      ]
    },
    {
      "cell_type": "code",
      "execution_count": 36,
      "metadata": {
        "colab": {
          "base_uri": "https://localhost:8080/"
        },
        "id": "AZOPw83rMP3S",
        "outputId": "164926be-1a29-4b3e-fd4d-41ff1df33ec1"
      },
      "outputs": [
        {
          "output_type": "execute_result",
          "data": {
            "text/plain": [
              "array([   0,    0,    0,    0,    0,    0,    0,    0,    0,    0,    0,\n",
              "          0,    0,    0,    0,    0,    0,    0,    0,    0,    0,    0,\n",
              "          0,    0,    0,    0,    0,    0,    0,    0,   19,  341,   52,\n",
              "        194,   30,   54, 7992,   55,  209,  603, 7887,    3,   36,  114,\n",
              "        164,  479,   85,    1, 1682,  782,   30,    2,  380,  326,    3,\n",
              "          1,   81,  132,  562,    9,   10], dtype=int32)"
            ]
          },
          "metadata": {},
          "execution_count": 36
        }
      ],
      "source": [
        "X_pad[800]"
      ]
    },
    {
      "cell_type": "code",
      "execution_count": 38,
      "metadata": {
        "colab": {
          "base_uri": "https://localhost:8080/"
        },
        "id": "4skufTFRMP3T",
        "outputId": "1a511c0b-577d-4d28-9b93-e566109eb254"
      },
      "outputs": [
        {
          "output_type": "execute_result",
          "data": {
            "text/plain": [
              "array([  145,     5,  5876,  2225,  1653,   902,   203,     1,     6,\n",
              "        2958,   163,  4248,   374,  3449,  1521, 12582,     3,  1381,\n",
              "           1,   491,   281,   140,     1,   491,  3391,  2388,   235,\n",
              "          21,    82,   756,    31,   212,  4458,  1448,    14,     6,\n",
              "         472,   609,  2159,    14,    15,   673,  1681,  2152,     3,\n",
              "         313,   444,   261,    13,   561,   463,   470,  1664,   168,\n",
              "         639,   519,  3209,  5455,  6409,   600,   625,   153,    38,\n",
              "         194,   272,   635,   389,   140,    26,    52,    40,   272,\n",
              "          15,    84,    38,   466,  1679, 12350,  1036,   999,     3,\n",
              "          96,     2,   318,    34,   134,   169,    40,  2752,     3,\n",
              "          77,   750,   168,   881,     3,   509,   571,   359,   195,\n",
              "           1,   491,     3,   172,    82,   256,  6460,    45,   926,\n",
              "         195,  2061,  6575,   603,  7031,   235,    21,   103,   931,\n",
              "         136,   394,  1316,  1917,     5,  2167,   567,  1034,  2217,\n",
              "          26,   335,  1883,    34,     3,     1,    79,   191,  3542,\n",
              "         705,    34,   954,  2751,  1341,   569,     2,    18,   135,\n",
              "        6653,   893,  3326,   133,     3,   195,    18,   133,   367,\n",
              "           5,   136,    13,   532,  1191,     5,  3051,  1308,  1865,\n",
              "           3,  4803,   119,     8,  1308,   105,   537,   136,  1181,\n",
              "          32,   836,  1640,    31,   204,    45,   585,  1346,   258,\n",
              "        3977,    98,  1976,     3,  1849,   546, 14186,    34,  3637,\n",
              "        1350,  1787,   100,     5,    39,     5,     4,   934,    65,\n",
              "         309,    55,   987,   797,  1612,    75,   537,  1433,     6,\n",
              "        1897,     6,  1205,    18,     6,    25,   104,  1902,  1421,\n",
              "         221,   100,  4468,   136,  2411,   597,   260,  1530,   787,\n",
              "        2889,   277,     2,  1425,    34,  2532,  1057,    18,    34,\n",
              "         902,  1869,   287,   872,  3501,   537,  1804,   488,  2218,\n",
              "          75,   163,     2,   456,    13,  1308,  1865,  3432,     5,\n",
              "         824,  7798,   836,  1640,  7838,  3344,    12,  1308,    31,\n",
              "        3063,   299,  2704,   851,  1052,    39,  1490,  3436,   317,\n",
              "        1170,    75,   537,    50,   327,   246,  1322,   120,     2,\n",
              "        3436,  7527,   199,   260,   579,  6176,  1800,    13,    45,\n",
              "         808,   108,     3,   865,   749,  5840,    50,   106,    76,\n",
              "         879])"
            ]
          },
          "metadata": {},
          "execution_count": 38
        }
      ],
      "source": [
        "np.array(X_num_tokens[21941])"
      ]
    },
    {
      "cell_type": "code",
      "execution_count": 39,
      "metadata": {
        "colab": {
          "base_uri": "https://localhost:8080/"
        },
        "id": "n_yR_ZsfMP3T",
        "outputId": "0a9a5e19-c73c-4a2f-966d-af9a6141c002"
      },
      "outputs": [
        {
          "output_type": "execute_result",
          "data": {
            "text/plain": [
              "array([ 872, 3501,  537, 1804,  488, 2218,   75,  163,    2,  456,   13,\n",
              "       1308, 1865, 3432,    5,  824, 7798,  836, 1640, 7838, 3344,   12,\n",
              "       1308,   31, 3063,  299, 2704,  851, 1052,   39, 1490, 3436,  317,\n",
              "       1170,   75,  537,   50,  327,  246, 1322,  120,    2, 3436, 7527,\n",
              "        199,  260,  579, 6176, 1800,   13,   45,  808,  108,    3,  865,\n",
              "        749, 5840,   50,  106,   76,  879], dtype=int32)"
            ]
          },
          "metadata": {},
          "execution_count": 39
        }
      ],
      "source": [
        "X_pad[21941]"
      ]
    },
    {
      "cell_type": "markdown",
      "metadata": {
        "id": "cdZpEZg0MP3V"
      },
      "source": [
        "## Train Test Split"
      ]
    },
    {
      "cell_type": "code",
      "execution_count": 40,
      "metadata": {
        "id": "uuzziHMgMP3V"
      },
      "outputs": [],
      "source": [
        "from sklearn.model_selection import train_test_split"
      ]
    },
    {
      "cell_type": "code",
      "execution_count": 41,
      "metadata": {
        "id": "-r7MDXwWMP3V"
      },
      "outputs": [],
      "source": [
        "X_train, X_test, y_train, y_test = train_test_split(X_pad, y, test_size=0.2, stratify=y, random_state=0)"
      ]
    },
    {
      "cell_type": "code",
      "execution_count": null,
      "metadata": {
        "id": "8mQLr7pQMP3W"
      },
      "outputs": [],
      "source": [
        ""
      ]
    },
    {
      "cell_type": "markdown",
      "metadata": {
        "id": "RY35Ev1rMP3W"
      },
      "source": [
        "## Modelling"
      ]
    },
    {
      "cell_type": "code",
      "execution_count": 42,
      "metadata": {
        "id": "GPoCxQyXMP3W"
      },
      "outputs": [],
      "source": [
        "model = Sequential()"
      ]
    },
    {
      "cell_type": "code",
      "execution_count": 43,
      "metadata": {
        "id": "XXOdeDTXMP3W"
      },
      "outputs": [],
      "source": [
        "embedding_size = 50"
      ]
    },
    {
      "cell_type": "code",
      "execution_count": 44,
      "metadata": {
        "id": "w6xvp2kQMP3X"
      },
      "outputs": [],
      "source": [
        "# pip install -U numpy==1.19.5"
      ]
    },
    {
      "cell_type": "code",
      "execution_count": 45,
      "metadata": {
        "id": "WDFpf4fSMP3X"
      },
      "outputs": [],
      "source": [
        "model.add(Embedding(input_dim=num_words,\n",
        "                    output_dim=embedding_size,\n",
        "                    input_length=max_tokens))\n",
        "\n",
        "model.add(Dropout(0.2))\n",
        "\n",
        "model.add(GRU(units=48, return_sequences=True))\n",
        "model.add(Dropout(0.2))\n",
        "\n",
        "#model.add(GRU(units=24, return_sequences=True))\n",
        "#model.add(Dropout(0.2))\n",
        "\n",
        "model.add(GRU(units=12))\n",
        "\n",
        "model.add(Dense(1, activation='sigmoid'))"
      ]
    },
    {
      "cell_type": "code",
      "execution_count": 46,
      "metadata": {
        "id": "pKOLaAIlMP3X"
      },
      "outputs": [],
      "source": [
        "optimizer = Adam(learning_rate=0.01)"
      ]
    },
    {
      "cell_type": "code",
      "execution_count": 47,
      "metadata": {
        "id": "zQqwx6KkMP3X"
      },
      "outputs": [],
      "source": [
        "model.compile(loss='binary_crossentropy',\n",
        "              optimizer=optimizer,\n",
        "              metrics=['Recall'])"
      ]
    },
    {
      "cell_type": "markdown",
      "metadata": {
        "id": "25o7tm7cMP3X"
      },
      "source": [
        "https://stats.stackexchange.com/questions/328926/how-many-parameters-are-in-a-gated-recurrent-unit-gru-recurrent-neural-network"
      ]
    },
    {
      "cell_type": "code",
      "execution_count": 48,
      "metadata": {
        "colab": {
          "base_uri": "https://localhost:8080/"
        },
        "id": "kuUR-OshMP3Y",
        "outputId": "20a13759-8555-431b-e8a8-7e6abaf4eba3"
      },
      "outputs": [
        {
          "output_type": "stream",
          "name": "stdout",
          "text": [
            "Model: \"sequential\"\n",
            "_________________________________________________________________\n",
            " Layer (type)                Output Shape              Param #   \n",
            "=================================================================\n",
            " embedding (Embedding)       (None, 61, 50)            750000    \n",
            "                                                                 \n",
            " dropout (Dropout)           (None, 61, 50)            0         \n",
            "                                                                 \n",
            " gru (GRU)                   (None, 61, 48)            14400     \n",
            "                                                                 \n",
            " dropout_1 (Dropout)         (None, 61, 48)            0         \n",
            "                                                                 \n",
            " gru_1 (GRU)                 (None, 12)                2232      \n",
            "                                                                 \n",
            " dense (Dense)               (None, 1)                 13        \n",
            "                                                                 \n",
            "=================================================================\n",
            "Total params: 766,645\n",
            "Trainable params: 766,645\n",
            "Non-trainable params: 0\n",
            "_________________________________________________________________\n"
          ]
        }
      ],
      "source": [
        "model.summary() \n",
        "# 3 x (n2 + nm + 2n) m= input, n= output\n",
        "# (48*48 + 50*48 + 2*48)*3 ==> m = 50, n = 48\n",
        "# (24*24 + 48*24 + 2*24)*3 ==> m = 48, n = 24\n",
        "# (12*12 + 24*12 + 2*12)*3 ==> m = 24, n = 12"
      ]
    },
    {
      "cell_type": "code",
      "execution_count": 49,
      "metadata": {
        "id": "5LxZGh5EMP3Y"
      },
      "outputs": [],
      "source": [
        "from tensorflow.keras.callbacks import EarlyStopping\n",
        "\n",
        "early_stop = EarlyStopping(monitor=\"val_recall\", mode=\"max\", \n",
        "                           verbose=1, patience = 1, restore_best_weights=True)"
      ]
    },
    {
      "cell_type": "code",
      "execution_count": 49,
      "metadata": {
        "id": "WPaOHrkgEUW2"
      },
      "outputs": [],
      "source": [
        ""
      ]
    },
    {
      "cell_type": "code",
      "execution_count": 50,
      "metadata": {
        "colab": {
          "base_uri": "https://localhost:8080/"
        },
        "id": "JSHMJXiRMP3Z",
        "outputId": "c174fbb5-a4aa-40b2-b201-da2e709dee72"
      },
      "outputs": [
        {
          "output_type": "execute_result",
          "data": {
            "text/plain": [
              "array([0.52975426, 8.90215702])"
            ]
          },
          "metadata": {},
          "execution_count": 50
        }
      ],
      "source": [
        "from sklearn.utils import class_weight\n",
        "classes_weights = class_weight.compute_sample_weight(class_weight='balanced', y=y_train)\n",
        "pd.Series(classes_weights).unique()"
      ]
    },
    {
      "cell_type": "markdown",
      "metadata": {
        "id": "E2Mm-c-Yg1PU"
      },
      "source": [
        "https://keras.io/getting_started/faq/#why-is-my-training-loss-much-higher-than-my-testing-loss"
      ]
    },
    {
      "cell_type": "code",
      "execution_count": 51,
      "metadata": {
        "colab": {
          "base_uri": "https://localhost:8080/"
        },
        "id": "Aq7oVrxLMP3Z",
        "outputId": "36e274b2-bf24-4228-c94f-3c5a9483df9f"
      },
      "outputs": [
        {
          "output_type": "stream",
          "name": "stdout",
          "text": [
            "Epoch 1/10\n",
            "761/761 [==============================] - 19s 12ms/step - loss: 0.3165 - recall: 0.8603 - val_loss: 0.2603 - val_recall: 0.8932\n",
            "Epoch 2/10\n",
            "761/761 [==============================] - 9s 12ms/step - loss: 0.1957 - recall: 0.9282 - val_loss: 0.3049 - val_recall: 0.9141\n",
            "Epoch 3/10\n",
            "760/761 [============================>.] - ETA: 0s - loss: 0.1551 - recall: 0.9487Restoring model weights from the end of the best epoch: 2.\n",
            "761/761 [==============================] - 8s 11ms/step - loss: 0.1554 - recall: 0.9486 - val_loss: 0.2137 - val_recall: 0.8431\n",
            "Epoch 3: early stopping\n"
          ]
        },
        {
          "output_type": "execute_result",
          "data": {
            "text/plain": [
              "<keras.callbacks.History at 0x7f42e02de710>"
            ]
          },
          "metadata": {},
          "execution_count": 51
        }
      ],
      "source": [
        "model.fit(X_train, y_train, epochs=10, batch_size=256, sample_weight= classes_weights,\n",
        "         validation_data=(X_test, y_test), callbacks=[early_stop])"
      ]
    },
    {
      "cell_type": "markdown",
      "metadata": {
        "id": "fUZGuKlgMP3Z"
      },
      "source": [
        "## Model evaluation"
      ]
    },
    {
      "cell_type": "code",
      "execution_count": 52,
      "metadata": {
        "colab": {
          "base_uri": "https://localhost:8080/",
          "height": 143
        },
        "id": "FY1--hF-MP3Z",
        "outputId": "9e46c583-55b4-4899-9ea7-5fb70c6c2338"
      },
      "outputs": [
        {
          "output_type": "execute_result",
          "data": {
            "text/plain": [
              "       loss    recall  val_loss  val_recall\n",
              "0  0.316492  0.860342  0.260265    0.893236\n",
              "1  0.195731  0.928160  0.304936    0.914077\n",
              "2  0.155354  0.948634  0.213682    0.843144"
            ],
            "text/html": [
              "\n",
              "  <div id=\"df-c42f0bee-5306-40e6-b380-308d9556a394\">\n",
              "    <div class=\"colab-df-container\">\n",
              "      <div>\n",
              "<style scoped>\n",
              "    .dataframe tbody tr th:only-of-type {\n",
              "        vertical-align: middle;\n",
              "    }\n",
              "\n",
              "    .dataframe tbody tr th {\n",
              "        vertical-align: top;\n",
              "    }\n",
              "\n",
              "    .dataframe thead th {\n",
              "        text-align: right;\n",
              "    }\n",
              "</style>\n",
              "<table border=\"1\" class=\"dataframe\">\n",
              "  <thead>\n",
              "    <tr style=\"text-align: right;\">\n",
              "      <th></th>\n",
              "      <th>loss</th>\n",
              "      <th>recall</th>\n",
              "      <th>val_loss</th>\n",
              "      <th>val_recall</th>\n",
              "    </tr>\n",
              "  </thead>\n",
              "  <tbody>\n",
              "    <tr>\n",
              "      <th>0</th>\n",
              "      <td>0.316492</td>\n",
              "      <td>0.860342</td>\n",
              "      <td>0.260265</td>\n",
              "      <td>0.893236</td>\n",
              "    </tr>\n",
              "    <tr>\n",
              "      <th>1</th>\n",
              "      <td>0.195731</td>\n",
              "      <td>0.928160</td>\n",
              "      <td>0.304936</td>\n",
              "      <td>0.914077</td>\n",
              "    </tr>\n",
              "    <tr>\n",
              "      <th>2</th>\n",
              "      <td>0.155354</td>\n",
              "      <td>0.948634</td>\n",
              "      <td>0.213682</td>\n",
              "      <td>0.843144</td>\n",
              "    </tr>\n",
              "  </tbody>\n",
              "</table>\n",
              "</div>\n",
              "      <button class=\"colab-df-convert\" onclick=\"convertToInteractive('df-c42f0bee-5306-40e6-b380-308d9556a394')\"\n",
              "              title=\"Convert this dataframe to an interactive table.\"\n",
              "              style=\"display:none;\">\n",
              "        \n",
              "  <svg xmlns=\"http://www.w3.org/2000/svg\" height=\"24px\"viewBox=\"0 0 24 24\"\n",
              "       width=\"24px\">\n",
              "    <path d=\"M0 0h24v24H0V0z\" fill=\"none\"/>\n",
              "    <path d=\"M18.56 5.44l.94 2.06.94-2.06 2.06-.94-2.06-.94-.94-2.06-.94 2.06-2.06.94zm-11 1L8.5 8.5l.94-2.06 2.06-.94-2.06-.94L8.5 2.5l-.94 2.06-2.06.94zm10 10l.94 2.06.94-2.06 2.06-.94-2.06-.94-.94-2.06-.94 2.06-2.06.94z\"/><path d=\"M17.41 7.96l-1.37-1.37c-.4-.4-.92-.59-1.43-.59-.52 0-1.04.2-1.43.59L10.3 9.45l-7.72 7.72c-.78.78-.78 2.05 0 2.83L4 21.41c.39.39.9.59 1.41.59.51 0 1.02-.2 1.41-.59l7.78-7.78 2.81-2.81c.8-.78.8-2.07 0-2.86zM5.41 20L4 18.59l7.72-7.72 1.47 1.35L5.41 20z\"/>\n",
              "  </svg>\n",
              "      </button>\n",
              "      \n",
              "  <style>\n",
              "    .colab-df-container {\n",
              "      display:flex;\n",
              "      flex-wrap:wrap;\n",
              "      gap: 12px;\n",
              "    }\n",
              "\n",
              "    .colab-df-convert {\n",
              "      background-color: #E8F0FE;\n",
              "      border: none;\n",
              "      border-radius: 50%;\n",
              "      cursor: pointer;\n",
              "      display: none;\n",
              "      fill: #1967D2;\n",
              "      height: 32px;\n",
              "      padding: 0 0 0 0;\n",
              "      width: 32px;\n",
              "    }\n",
              "\n",
              "    .colab-df-convert:hover {\n",
              "      background-color: #E2EBFA;\n",
              "      box-shadow: 0px 1px 2px rgba(60, 64, 67, 0.3), 0px 1px 3px 1px rgba(60, 64, 67, 0.15);\n",
              "      fill: #174EA6;\n",
              "    }\n",
              "\n",
              "    [theme=dark] .colab-df-convert {\n",
              "      background-color: #3B4455;\n",
              "      fill: #D2E3FC;\n",
              "    }\n",
              "\n",
              "    [theme=dark] .colab-df-convert:hover {\n",
              "      background-color: #434B5C;\n",
              "      box-shadow: 0px 1px 3px 1px rgba(0, 0, 0, 0.15);\n",
              "      filter: drop-shadow(0px 1px 2px rgba(0, 0, 0, 0.3));\n",
              "      fill: #FFFFFF;\n",
              "    }\n",
              "  </style>\n",
              "\n",
              "      <script>\n",
              "        const buttonEl =\n",
              "          document.querySelector('#df-c42f0bee-5306-40e6-b380-308d9556a394 button.colab-df-convert');\n",
              "        buttonEl.style.display =\n",
              "          google.colab.kernel.accessAllowed ? 'block' : 'none';\n",
              "\n",
              "        async function convertToInteractive(key) {\n",
              "          const element = document.querySelector('#df-c42f0bee-5306-40e6-b380-308d9556a394');\n",
              "          const dataTable =\n",
              "            await google.colab.kernel.invokeFunction('convertToInteractive',\n",
              "                                                     [key], {});\n",
              "          if (!dataTable) return;\n",
              "\n",
              "          const docLinkHtml = 'Like what you see? Visit the ' +\n",
              "            '<a target=\"_blank\" href=https://colab.research.google.com/notebooks/data_table.ipynb>data table notebook</a>'\n",
              "            + ' to learn more about interactive tables.';\n",
              "          element.innerHTML = '';\n",
              "          dataTable['output_type'] = 'display_data';\n",
              "          await google.colab.output.renderOutput(dataTable, element);\n",
              "          const docLink = document.createElement('div');\n",
              "          docLink.innerHTML = docLinkHtml;\n",
              "          element.appendChild(docLink);\n",
              "        }\n",
              "      </script>\n",
              "    </div>\n",
              "  </div>\n",
              "  "
            ]
          },
          "metadata": {},
          "execution_count": 52
        }
      ],
      "source": [
        "model_loss = pd.DataFrame(model.history.history)\n",
        "model_loss.head()"
      ]
    },
    {
      "cell_type": "code",
      "execution_count": 53,
      "metadata": {
        "colab": {
          "base_uri": "https://localhost:8080/",
          "height": 283
        },
        "id": "BDVnpeScMP3Z",
        "outputId": "625d3bb9-bd38-44bb-c5da-a88d98f6ec93"
      },
      "outputs": [
        {
          "output_type": "execute_result",
          "data": {
            "text/plain": [
              "<matplotlib.axes._subplots.AxesSubplot at 0x7f4269fc7ed0>"
            ]
          },
          "metadata": {},
          "execution_count": 53
        },
        {
          "output_type": "display_data",
          "data": {
            "text/plain": [
              "<Figure size 432x288 with 1 Axes>"
            ],
            "image/png": "[encoded data removed]"
          },
          "metadata": {
            "needs_background": "light"
          }
        }
      ],
      "source": [
        "model_loss.plot()"
      ]
    },
    {
      "cell_type": "code",
      "execution_count": null,
      "metadata": {
        "id": "jfo1PLy9FW32"
      },
      "outputs": [],
      "source": [
        ""
      ]
    },
    {
      "cell_type": "code",
      "execution_count": 54,
      "metadata": {
        "colab": {
          "base_uri": "https://localhost:8080/"
        },
        "id": "VW9rUaYgMP3a",
        "outputId": "a3201b4b-95cc-4d16-b66f-045e9025599d"
      },
      "outputs": [
        {
          "output_type": "stream",
          "name": "stdout",
          "text": [
            "6088/6088 [==============================] - 28s 5ms/step - loss: 0.2627 - recall: 0.9831\n"
          ]
        },
        {
          "output_type": "execute_result",
          "data": {
            "text/plain": [
              "[0.2626975476741791, 0.9830911159515381]"
            ]
          },
          "metadata": {},
          "execution_count": 54
        }
      ],
      "source": [
        "model.evaluate(X_train, y_train)"
      ]
    },
    {
      "cell_type": "code",
      "execution_count": 55,
      "metadata": {
        "colab": {
          "base_uri": "https://localhost:8080/"
        },
        "id": "hVZ2aAfMMP3a",
        "outputId": "b31f0c79-0f96-495e-9305-ef9c29d41f4e"
      },
      "outputs": [
        {
          "output_type": "stream",
          "name": "stdout",
          "text": [
            "1522/1522 [==============================] - 7s 5ms/step - loss: 0.3049 - recall: 0.9141\n"
          ]
        },
        {
          "output_type": "execute_result",
          "data": {
            "text/plain": [
              "[0.30493584275245667, 0.9140768051147461]"
            ]
          },
          "metadata": {},
          "execution_count": 55
        }
      ],
      "source": [
        "model.evaluate(X_test, y_test)"
      ]
    },
    {
      "cell_type": "code",
      "execution_count": 56,
      "metadata": {
        "colab": {
          "base_uri": "https://localhost:8080/"
        },
        "id": "lh2CIUcJy9dt",
        "outputId": "fb6133e1-f752-4dfb-ddf7-53ca583ea236"
      },
      "outputs": [
        {
          "output_type": "stream",
          "name": "stdout",
          "text": [
            "[[162531  21325]\n",
            " [   185  10756]]\n",
            "-------------------------------------------------------\n",
            "              precision    recall  f1-score   support\n",
            "\n",
            "           0       1.00      0.88      0.94    183856\n",
            "           1       0.34      0.98      0.50     10941\n",
            "\n",
            "    accuracy                           0.89    194797\n",
            "   macro avg       0.67      0.93      0.72    194797\n",
            "weighted avg       0.96      0.89      0.91    194797\n",
            "\n"
          ]
        }
      ],
      "source": [
        "from sklearn.metrics import confusion_matrix, classification_report, accuracy_score, f1_score, roc_auc_score\n",
        "\n",
        "\n",
        "y_train_pred = model.predict(X_train) >= 0.5\n",
        "\n",
        "print(confusion_matrix(y_train, y_train_pred))\n",
        "print(\"-------------------------------------------------------\")\n",
        "print(classification_report(y_train, y_train_pred))"
      ]
    },
    {
      "cell_type": "code",
      "execution_count": 57,
      "metadata": {
        "colab": {
          "base_uri": "https://localhost:8080/"
        },
        "id": "PfAxi22ry8t9",
        "outputId": "a54d2b40-d31a-4b88-a12e-0fe3935a0c6a"
      },
      "outputs": [
        {
          "output_type": "stream",
          "name": "stdout",
          "text": [
            "[[39919  6046]\n",
            " [  235  2500]]\n",
            "-------------------------------------------------------\n",
            "              precision    recall  f1-score   support\n",
            "\n",
            "           0       0.99      0.87      0.93     45965\n",
            "           1       0.29      0.91      0.44      2735\n",
            "\n",
            "    accuracy                           0.87     48700\n",
            "   macro avg       0.64      0.89      0.69     48700\n",
            "weighted avg       0.95      0.87      0.90     48700\n",
            "\n"
          ]
        }
      ],
      "source": [
        "y_pred = model.predict(X_test) >= 0.5\n",
        "\n",
        "print(confusion_matrix(y_test, y_pred))\n",
        "print(\"-------------------------------------------------------\")\n",
        "print(classification_report(y_test, y_pred))"
      ]
    },
    {
      "cell_type": "code",
      "execution_count": 58,
      "metadata": {
        "colab": {
          "base_uri": "https://localhost:8080/",
          "height": 295
        },
        "id": "kF0ks_UphsVL",
        "outputId": "84a21218-29ba-4fde-f957-6022518bffd4"
      },
      "outputs": [
        {
          "output_type": "display_data",
          "data": {
            "text/plain": [
              "<Figure size 432x288 with 1 Axes>"
            ],
            "image/png": "[encoded data removed]"
          },
          "metadata": {
            "needs_background": "light"
          }
        }
      ],
      "source": [
        "from sklearn.metrics import precision_recall_curve, average_precision_score\n",
        "import matplotlib.pyplot as plt\n",
        "\n",
        "y_pred_proba = model.predict(X_test)\n",
        "precision, recall, thresholds = precision_recall_curve(y_test, y_pred_proba,)\n",
        "plt.plot([1,0],[0,1],'k--')\n",
        "plt.plot(recall, precision)\n",
        "plt.xlabel('recall')\n",
        "plt.ylabel('precision')\n",
        "plt.title('precision recall curve')\n",
        "plt.show()"
      ]
    },
    {
      "cell_type": "code",
      "execution_count": 59,
      "metadata": {
        "colab": {
          "base_uri": "https://localhost:8080/"
        },
        "id": "PngCc_Ofk3ek",
        "outputId": "4b6b4b22-1c56-4958-de79-4e6e4d27f4e0"
      },
      "outputs": [
        {
          "output_type": "execute_result",
          "data": {
            "text/plain": [
              "0.7192867372224102"
            ]
          },
          "metadata": {},
          "execution_count": 59
        }
      ],
      "source": [
        "average_precision_score(y_test, y_pred_proba)"
      ]
    },
    {
      "cell_type": "code",
      "source": [
        ""
      ],
      "metadata": {
        "id": "6MUOHCCa62xP"
      },
      "execution_count": null,
      "outputs": []
    },
    {
      "cell_type": "markdown",
      "source": [
        "## Scores without sample_weight"
      ],
      "metadata": {
        "id": "MemCfXzR63sT"
      }
    },
    {
      "cell_type": "code",
      "source": [
        "Test set\n",
        "\n",
        "                precision    recall  f1-score   support\n",
        "\n",
        "           0       0.98      0.99      0.98     45965\n",
        "           1       0.72      0.63      0.67      2735\n",
        "\n",
        "    accuracy                           0.97     48700\n",
        "   macro avg       0.85      0.81      0.83     48700\n",
        "weighted avg       0.96      0.97      0.96     48700\n",
        " \n",
        " \n",
        " \n",
        " \n",
        " Train set             \n",
        "              precision    recall  f1-score   support\n",
        "\n",
        "           0       0.99      0.99      0.99    183856\n",
        "           1       0.87      0.80      0.84     10941\n",
        "\n",
        "    accuracy                           0.98    194797\n",
        "   macro avg       0.93      0.90      0.91    194797\n",
        "weighted avg       0.98      0.98      0.98    194797"
      ],
      "metadata": {
        "id": "P7pmIllZ661o"
      },
      "execution_count": null,
      "outputs": []
    },
    {
      "cell_type": "code",
      "source": [
        ""
      ],
      "metadata": {
        "id": "qbZ3cnXP67Vf"
      },
      "execution_count": null,
      "outputs": []
    },
    {
      "cell_type": "markdown",
      "metadata": {
        "id": "PlG-6uRCHEhX"
      },
      "source": [
        "## Base model without sample weights\n",
        "\n",
        "\n",
        "model.add(Embedding(input_dim=num_words,\n",
        "                    output_dim=embedding_size,\n",
        "                    input_length=max_tokens))\n",
        "\n",
        "model.add(Dropout(0.5))\n",
        "\n",
        "model.add(GRU(units=48, return_sequences=True))\n",
        "\n",
        "model.add(Dropout(0.5))\n",
        "\n",
        "model.add(GRU(units=12))\n",
        "\n",
        "model.add(Dense(1, activation='sigmoid'))\n",
        "\n",
        "\n",
        "optimizer = Adam(learning_rate=0.001)\n",
        "\n",
        "\n",
        "model.compile(loss='binary_crossentropy',\n",
        "              optimizer=optimizer,\n",
        "              metrics=['Recall'])\n",
        "\n",
        "\n",
        "model.fit(X_train, y_train, epochs=1, batch_size=128,\n",
        "         validation_data=(X_test, y_test))"
      ]
    },
    {
      "cell_type": "code",
      "execution_count": null,
      "metadata": {
        "id": "komhkHk_Gt5u"
      },
      "outputs": [],
      "source": [
        " Train seti\n",
        " \n",
        "                precision    recall  f1-score   support\n",
        "\n",
        "           0       0.98      0.99      0.99    183856\n",
        "           1       0.87      0.59      0.71     10941\n",
        "\n",
        "    accuracy                           0.97    194797\n",
        "   macro avg       0.92      0.79      0.85    194797\n",
        "weighted avg       0.97      0.97      0.97    194797\n",
        "\n",
        "\n",
        "Test Seti\n",
        "\n",
        "                precision    recall  f1-score   support\n",
        "\n",
        "           0       0.97      0.99      0.98     45965\n",
        "           1       0.83      0.52      0.64      2735\n",
        "\n",
        "    accuracy                           0.97     48700\n",
        "   macro avg       0.90      0.76      0.81     48700\n",
        "weighted avg       0.96      0.97      0.96     48700\n"
      ]
    },
    {
      "cell_type": "markdown",
      "metadata": {
        "id": "b0fcHGnY0aH9"
      },
      "source": [
        "## Model Saving"
      ]
    },
    {
      "cell_type": "code",
      "execution_count": 60,
      "metadata": {
        "id": "Io2S2n_30UAx"
      },
      "outputs": [],
      "source": [
        "model.save('review_hepsiburada.h5')"
      ]
    },
    {
      "cell_type": "markdown",
      "metadata": {
        "id": "RvHJTK3N1M8I"
      },
      "source": [
        "##Loading Model"
      ]
    },
    {
      "cell_type": "code",
      "execution_count": 62,
      "metadata": {
        "id": "6fF_Moci1Rl3"
      },
      "outputs": [],
      "source": [
        "from tensorflow.keras.models import load_model\n",
        "model_review = load_model('/content/drive/MyDrive/review_hepsiburada.h5')"
      ]
    },
    {
      "cell_type": "markdown",
      "metadata": {
        "id": "U3Z5WQt0MP3e"
      },
      "source": [
        "## Predicton"
      ]
    },
    {
      "cell_type": "code",
      "execution_count": 89,
      "metadata": {
        "id": "XXl_3XopMP3e"
      },
      "outputs": [],
      "source": [
        "review1 = \"çok beğendim herkese tavsiye ederim\"\n",
        "review2 = \"süper ürün\"\n",
        "review3 = \"büyük bir hayal kırıklığı yaşadım bu ürünü bu markaya yakıştıramadım\"\n",
        "review4 = \"kelimelerle tarif edilemez\"\n",
        "review5 = \"tasarımı harika ancak kargo çok geç geldi ve ürün açılmıştı hayal kırıklığı gerçekten\"\n",
        "review6 = \"hiç resimde gösterildiği gibi değil\"\n",
        "review7 = \"kötü yorumlar gözümü korkutmuştu ancak hiçbir sorun yaşamadım.\"\n",
        "review8 = \"hiç bu kadar kötü bir satıcıya denk gelmemiştim ürün siparişimi iptal ediyorum\"\n",
        "review9 = \"tam bir fiyat performans ürünü\"\n",
        "review10 = \"beklediğim gibi çıkmadı\"\n",
        "review11 = \"on numara beş yıldız\"\n",
        "review12 = \"üründe sıkıntı var\"\n",
        "review13 = \"televizyonun görüntü kalitesi çok kötü, dün akşam evde arkadaşlarla toplandık. yedik, içtik, sohbet ettik. Sonra televizyonda Türkiye - İngiltere maçını seyrettik. \"\n",
        "review14 = '1 gün gibi kısa bir sürede elime geçti. Ve bu fıyata süper bir ürün tavsiye ederim. Lakin eli büyük olan kişiler daha büyük modelini tercih edebilirler ortaboy ürün. Teşekkürler '\n",
        "reviews = [review1, review2, review3, review4, review5, review6, review7, review8, review9, review10, review11, review12, review13, review14]"
      ]
    },
    {
      "cell_type": "code",
      "execution_count": 90,
      "metadata": {
        "id": "XhxQQSEqMP3e"
      },
      "outputs": [],
      "source": [
        "tokens = tokenizer.texts_to_sequences(reviews)"
      ]
    },
    {
      "cell_type": "code",
      "source": [
        "tokens"
      ],
      "metadata": {
        "colab": {
          "base_uri": "https://localhost:8080/"
        },
        "id": "GDePbQkGzpah",
        "outputId": "fed67da5-d83f-4157-a752-a1b73f59d266"
      },
      "execution_count": 91,
      "outputs": [
        {
          "output_type": "execute_result",
          "data": {
            "text/plain": [
              "[[1, 146, 70, 9, 10],\n",
              " [73, 4],\n",
              " [104, 2, 1032, 2333, 1466, 5, 19, 5, 1779, 11413],\n",
              " [4212, 11835],\n",
              " [553, 61, 82, 27, 1, 458, 33, 3, 4, 1032, 2333, 37],\n",
              " [46, 1096, 6419, 20, 50],\n",
              " [177, 735, 7728, 82, 263, 105, 326],\n",
              " [46, 5, 30, 177, 2, 1717, 1244, 4, 1723, 4600, 83],\n",
              " [74, 2, 28, 111, 19],\n",
              " [637, 20, 857],\n",
              " [395, 179, 1001, 511],\n",
              " [447, 147, 34],\n",
              " [7070, 318, 62, 1, 177, 375, 473, 286, 6559, 1412, 41, 9636, 774],\n",
              " [38,\n",
              "  40,\n",
              "  20,\n",
              "  108,\n",
              "  2,\n",
              "  161,\n",
              "  29,\n",
              "  150,\n",
              "  3,\n",
              "  5,\n",
              "  2855,\n",
              "  73,\n",
              "  2,\n",
              "  4,\n",
              "  9,\n",
              "  10,\n",
              "  1159,\n",
              "  2430,\n",
              "  104,\n",
              "  113,\n",
              "  2068,\n",
              "  11,\n",
              "  104,\n",
              "  1150,\n",
              "  175,\n",
              "  12730,\n",
              "  4,\n",
              "  16]]"
            ]
          },
          "metadata": {},
          "execution_count": 91
        }
      ]
    },
    {
      "cell_type": "code",
      "execution_count": 92,
      "metadata": {
        "colab": {
          "base_uri": "https://localhost:8080/"
        },
        "id": "NNbh_gkTMP3e",
        "outputId": "001cb158-cc15-4d4c-c9bd-502cc11a9781"
      },
      "outputs": [
        {
          "output_type": "execute_result",
          "data": {
            "text/plain": [
              "(14, 61)"
            ]
          },
          "metadata": {},
          "execution_count": 92
        }
      ],
      "source": [
        "tokens_pad = pad_sequences(tokens, maxlen=max_tokens)\n",
        "tokens_pad.shape"
      ]
    },
    {
      "cell_type": "code",
      "source": [
        "prob = model_review.predict(tokens_pad)\n",
        "prob"
      ],
      "metadata": {
        "colab": {
          "base_uri": "https://localhost:8080/"
        },
        "id": "r01hpC1j8zrx",
        "outputId": "b5624467-e789-4134-80f5-1e60aedebf50"
      },
      "execution_count": 93,
      "outputs": [
        {
          "output_type": "execute_result",
          "data": {
            "text/plain": [
              "array([[0.00922782],\n",
              "       [0.02848789],\n",
              "       [0.99528825],\n",
              "       [0.18212892],\n",
              "       [0.72074836],\n",
              "       [0.9715891 ],\n",
              "       [0.9154371 ],\n",
              "       [0.9521942 ],\n",
              "       [0.08395573],\n",
              "       [0.9837568 ],\n",
              "       [0.0232882 ],\n",
              "       [0.7010323 ],\n",
              "       [0.97435015],\n",
              "       [0.16686192]], dtype=float32)"
            ]
          },
          "metadata": {},
          "execution_count": 93
        }
      ]
    },
    {
      "cell_type": "code",
      "execution_count": 94,
      "metadata": {
        "colab": {
          "base_uri": "https://localhost:8080/"
        },
        "id": "RTGxn4qwMP3f",
        "outputId": "1700ca97-8074-4ab0-aa63-b1606b1461e6"
      },
      "outputs": [
        {
          "output_type": "execute_result",
          "data": {
            "text/plain": [
              "array([[0],\n",
              "       [0],\n",
              "       [1],\n",
              "       [0],\n",
              "       [1],\n",
              "       [1],\n",
              "       [1],\n",
              "       [1],\n",
              "       [0],\n",
              "       [1],\n",
              "       [0],\n",
              "       [1],\n",
              "       [1],\n",
              "       [0]])"
            ]
          },
          "metadata": {},
          "execution_count": 94
        }
      ],
      "source": [
        "pred = (model_review.predict(tokens_pad) >0.5).astype(\"int\")\n",
        "pred"
      ]
    },
    {
      "cell_type": "code",
      "execution_count": 95,
      "metadata": {
        "id": "MSL1R81HMP3f",
        "colab": {
          "base_uri": "https://localhost:8080/",
          "height": 488
        },
        "outputId": "4462b341-ca8b-41f3-9371-5488ef972b49"
      },
      "outputs": [
        {
          "output_type": "execute_result",
          "data": {
            "text/plain": [
              "                                                                                                                                                                                Review  \\\n",
              "0                                                                                                                                                  çok beğendim herkese tavsiye ederim   \n",
              "1                                                                                                                                                                           süper ürün   \n",
              "2                                                                                                                 büyük bir hayal kırıklığı yaşadım bu ürünü bu markaya yakıştıramadım   \n",
              "3                                                                                                                                                           kelimelerle tarif edilemez   \n",
              "4                                                                                                tasarımı harika ancak kargo çok geç geldi ve ürün açılmıştı hayal kırıklığı gerçekten   \n",
              "5                                                                                                                                                  hiç resimde gösterildiği gibi değil   \n",
              "6                                                                                                                       kötü yorumlar gözümü korkutmuştu ancak hiçbir sorun yaşamadım.   \n",
              "7                                                                                                       hiç bu kadar kötü bir satıcıya denk gelmemiştim ürün siparişimi iptal ediyorum   \n",
              "8                                                                                                                                                       tam bir fiyat performans ürünü   \n",
              "9                                                                                                                                                              beklediğim gibi çıkmadı   \n",
              "10                                                                                                                                                                on numara beş yıldız   \n",
              "11                                                                                                                                                                  üründe sıkıntı var   \n",
              "12                televizyonun görüntü kalitesi çok kötü, dün akşam evde arkadaşlarla toplandık. yedik, içtik, sohbet ettik. Sonra televizyonda Türkiye - İngiltere maçını seyrettik.    \n",
              "13  1 gün gibi kısa bir sürede elime geçti. Ve bu fıyata süper bir ürün tavsiye ederim. Lakin eli büyük olan kişiler daha büyük modelini tercih edebilirler ortaboy ürün. Teşekkürler    \n",
              "\n",
              "        prob  classes  \n",
              "0   0.009228        0  \n",
              "1   0.028488        0  \n",
              "2   0.995288        1  \n",
              "3   0.182129        0  \n",
              "4   0.720748        1  \n",
              "5   0.971589        1  \n",
              "6   0.915437        1  \n",
              "7   0.952194        1  \n",
              "8   0.083956        0  \n",
              "9   0.983757        1  \n",
              "10  0.023288        0  \n",
              "11  0.701032        1  \n",
              "12  0.974350        1  \n",
              "13  0.166862        0  "
            ],
            "text/html": [
              "\n",
              "  <div id=\"df-b09adafc-b4d2-4375-b678-7340723ad843\">\n",
              "    <div class=\"colab-df-container\">\n",
              "      <div>\n",
              "<style scoped>\n",
              "    .dataframe tbody tr th:only-of-type {\n",
              "        vertical-align: middle;\n",
              "    }\n",
              "\n",
              "    .dataframe tbody tr th {\n",
              "        vertical-align: top;\n",
              "    }\n",
              "\n",
              "    .dataframe thead th {\n",
              "        text-align: right;\n",
              "    }\n",
              "</style>\n",
              "<table border=\"1\" class=\"dataframe\">\n",
              "  <thead>\n",
              "    <tr style=\"text-align: right;\">\n",
              "      <th></th>\n",
              "      <th>Review</th>\n",
              "      <th>prob</th>\n",
              "      <th>classes</th>\n",
              "    </tr>\n",
              "  </thead>\n",
              "  <tbody>\n",
              "    <tr>\n",
              "      <th>0</th>\n",
              "      <td>çok beğendim herkese tavsiye ederim</td>\n",
              "      <td>0.009228</td>\n",
              "      <td>0</td>\n",
              "    </tr>\n",
              "    <tr>\n",
              "      <th>1</th>\n",
              "      <td>süper ürün</td>\n",
              "      <td>0.028488</td>\n",
              "      <td>0</td>\n",
              "    </tr>\n",
              "    <tr>\n",
              "      <th>2</th>\n",
              "      <td>büyük bir hayal kırıklığı yaşadım bu ürünü bu markaya yakıştıramadım</td>\n",
              "      <td>0.995288</td>\n",
              "      <td>1</td>\n",
              "    </tr>\n",
              "    <tr>\n",
              "      <th>3</th>\n",
              "      <td>kelimelerle tarif edilemez</td>\n",
              "      <td>0.182129</td>\n",
              "      <td>0</td>\n",
              "    </tr>\n",
              "    <tr>\n",
              "      <th>4</th>\n",
              "      <td>tasarımı harika ancak kargo çok geç geldi ve ürün açılmıştı hayal kırıklığı gerçekten</td>\n",
              "      <td>0.720748</td>\n",
              "      <td>1</td>\n",
              "    </tr>\n",
              "    <tr>\n",
              "      <th>5</th>\n",
              "      <td>hiç resimde gösterildiği gibi değil</td>\n",
              "      <td>0.971589</td>\n",
              "      <td>1</td>\n",
              "    </tr>\n",
              "    <tr>\n",
              "      <th>6</th>\n",
              "      <td>kötü yorumlar gözümü korkutmuştu ancak hiçbir sorun yaşamadım.</td>\n",
              "      <td>0.915437</td>\n",
              "      <td>1</td>\n",
              "    </tr>\n",
              "    <tr>\n",
              "      <th>7</th>\n",
              "      <td>hiç bu kadar kötü bir satıcıya denk gelmemiştim ürün siparişimi iptal ediyorum</td>\n",
              "      <td>0.952194</td>\n",
              "      <td>1</td>\n",
              "    </tr>\n",
              "    <tr>\n",
              "      <th>8</th>\n",
              "      <td>tam bir fiyat performans ürünü</td>\n",
              "      <td>0.083956</td>\n",
              "      <td>0</td>\n",
              "    </tr>\n",
              "    <tr>\n",
              "      <th>9</th>\n",
              "      <td>beklediğim gibi çıkmadı</td>\n",
              "      <td>0.983757</td>\n",
              "      <td>1</td>\n",
              "    </tr>\n",
              "    <tr>\n",
              "      <th>10</th>\n",
              "      <td>on numara beş yıldız</td>\n",
              "      <td>0.023288</td>\n",
              "      <td>0</td>\n",
              "    </tr>\n",
              "    <tr>\n",
              "      <th>11</th>\n",
              "      <td>üründe sıkıntı var</td>\n",
              "      <td>0.701032</td>\n",
              "      <td>1</td>\n",
              "    </tr>\n",
              "    <tr>\n",
              "      <th>12</th>\n",
              "      <td>televizyonun görüntü kalitesi çok kötü, dün akşam evde arkadaşlarla toplandık. yedik, içtik, sohbet ettik. Sonra televizyonda Türkiye - İngiltere maçını seyrettik.</td>\n",
              "      <td>0.974350</td>\n",
              "      <td>1</td>\n",
              "    </tr>\n",
              "    <tr>\n",
              "      <th>13</th>\n",
              "      <td>1 gün gibi kısa bir sürede elime geçti. Ve bu fıyata süper bir ürün tavsiye ederim. Lakin eli büyük olan kişiler daha büyük modelini tercih edebilirler ortaboy ürün. Teşekkürler</td>\n",
              "      <td>0.166862</td>\n",
              "      <td>0</td>\n",
              "    </tr>\n",
              "  </tbody>\n",
              "</table>\n",
              "</div>\n",
              "      <button class=\"colab-df-convert\" onclick=\"convertToInteractive('df-b09adafc-b4d2-4375-b678-7340723ad843')\"\n",
              "              title=\"Convert this dataframe to an interactive table.\"\n",
              "              style=\"display:none;\">\n",
              "        \n",
              "  <svg xmlns=\"http://www.w3.org/2000/svg\" height=\"24px\"viewBox=\"0 0 24 24\"\n",
              "       width=\"24px\">\n",
              "    <path d=\"M0 0h24v24H0V0z\" fill=\"none\"/>\n",
              "    <path d=\"M18.56 5.44l.94 2.06.94-2.06 2.06-.94-2.06-.94-.94-2.06-.94 2.06-2.06.94zm-11 1L8.5 8.5l.94-2.06 2.06-.94-2.06-.94L8.5 2.5l-.94 2.06-2.06.94zm10 10l.94 2.06.94-2.06 2.06-.94-2.06-.94-.94-2.06-.94 2.06-2.06.94z\"/><path d=\"M17.41 7.96l-1.37-1.37c-.4-.4-.92-.59-1.43-.59-.52 0-1.04.2-1.43.59L10.3 9.45l-7.72 7.72c-.78.78-.78 2.05 0 2.83L4 21.41c.39.39.9.59 1.41.59.51 0 1.02-.2 1.41-.59l7.78-7.78 2.81-2.81c.8-.78.8-2.07 0-2.86zM5.41 20L4 18.59l7.72-7.72 1.47 1.35L5.41 20z\"/>\n",
              "  </svg>\n",
              "      </button>\n",
              "      \n",
              "  <style>\n",
              "    .colab-df-container {\n",
              "      display:flex;\n",
              "      flex-wrap:wrap;\n",
              "      gap: 12px;\n",
              "    }\n",
              "\n",
              "    .colab-df-convert {\n",
              "      background-color: #E8F0FE;\n",
              "      border: none;\n",
              "      border-radius: 50%;\n",
              "      cursor: pointer;\n",
              "      display: none;\n",
              "      fill: #1967D2;\n",
              "      height: 32px;\n",
              "      padding: 0 0 0 0;\n",
              "      width: 32px;\n",
              "    }\n",
              "\n",
              "    .colab-df-convert:hover {\n",
              "      background-color: #E2EBFA;\n",
              "      box-shadow: 0px 1px 2px rgba(60, 64, 67, 0.3), 0px 1px 3px 1px rgba(60, 64, 67, 0.15);\n",
              "      fill: #174EA6;\n",
              "    }\n",
              "\n",
              "    [theme=dark] .colab-df-convert {\n",
              "      background-color: #3B4455;\n",
              "      fill: #D2E3FC;\n",
              "    }\n",
              "\n",
              "    [theme=dark] .colab-df-convert:hover {\n",
              "      background-color: #434B5C;\n",
              "      box-shadow: 0px 1px 3px 1px rgba(0, 0, 0, 0.15);\n",
              "      filter: drop-shadow(0px 1px 2px rgba(0, 0, 0, 0.3));\n",
              "      fill: #FFFFFF;\n",
              "    }\n",
              "  </style>\n",
              "\n",
              "      <script>\n",
              "        const buttonEl =\n",
              "          document.querySelector('#df-b09adafc-b4d2-4375-b678-7340723ad843 button.colab-df-convert');\n",
              "        buttonEl.style.display =\n",
              "          google.colab.kernel.accessAllowed ? 'block' : 'none';\n",
              "\n",
              "        async function convertToInteractive(key) {\n",
              "          const element = document.querySelector('#df-b09adafc-b4d2-4375-b678-7340723ad843');\n",
              "          const dataTable =\n",
              "            await google.colab.kernel.invokeFunction('convertToInteractive',\n",
              "                                                     [key], {});\n",
              "          if (!dataTable) return;\n",
              "\n",
              "          const docLinkHtml = 'Like what you see? Visit the ' +\n",
              "            '<a target=\"_blank\" href=https://colab.research.google.com/notebooks/data_table.ipynb>data table notebook</a>'\n",
              "            + ' to learn more about interactive tables.';\n",
              "          element.innerHTML = '';\n",
              "          dataTable['output_type'] = 'display_data';\n",
              "          await google.colab.output.renderOutput(dataTable, element);\n",
              "          const docLink = document.createElement('div');\n",
              "          docLink.innerHTML = docLinkHtml;\n",
              "          element.appendChild(docLink);\n",
              "        }\n",
              "      </script>\n",
              "    </div>\n",
              "  </div>\n",
              "  "
            ]
          },
          "metadata": {},
          "execution_count": 95
        }
      ],
      "source": [
        "pd.set_option('display.max_colwidth', None)\n",
        "my_dict = {\"Review\":reviews, \"prob\":[i[0] for i in prob], \"classes\":[i[0] for i in pred]}\n",
        "pd.DataFrame(my_dict)"
      ]
    },
    {
      "cell_type": "code",
      "source": [
        "for i, j in tokenizer.word_index.items():\n",
        "  for k in \"kelimelerle tarif edilemez\".split():\n",
        "    if i == k:\n",
        "      print(i, j)"
      ],
      "metadata": {
        "id": "Eiotkh3a9FXI",
        "colab": {
          "base_uri": "https://localhost:8080/"
        },
        "outputId": "ff792665-c240-4188-aa7e-dbc51d777b37"
      },
      "execution_count": 84,
      "outputs": [
        {
          "output_type": "stream",
          "name": "stdout",
          "text": [
            "tarif 4212\n",
            "edilemez 11835\n",
            "kelimelerle 24145\n"
          ]
        }
      ]
    },
    {
      "cell_type": "code",
      "source": [
        "for i, j in tokenizer.word_index.items():\n",
        "  for k in \"kötü yorumlar gözümü korkutmuştu ancak hiçbir sorun yaşamadım\".split():\n",
        "    if i == k:\n",
        "      print(i, j)"
      ],
      "metadata": {
        "colab": {
          "base_uri": "https://localhost:8080/"
        },
        "id": "2b_A1Q6t5kWM",
        "outputId": "60e1562a-8e1d-4aac-9542-4ddb26eb082a"
      },
      "execution_count": 96,
      "outputs": [
        {
          "output_type": "stream",
          "name": "stdout",
          "text": [
            "ancak 82\n",
            "sorun 105\n",
            "kötü 177\n",
            "hiçbir 263\n",
            "yaşamadım 326\n",
            "yorumlar 735\n",
            "gözümü 7728\n",
            "korkutmuştu 19753\n"
          ]
        }
      ]
    },
    {
      "cell_type": "code",
      "source": [
        ""
      ],
      "metadata": {
        "id": "F9p3WNXQ5-W1"
      },
      "execution_count": null,
      "outputs": []
    }
  ],
  "metadata": {
    "accelerator": "GPU",
    "colab": {
      "name": "NLP_4_(NLP_Application_with_DL) 14 Jul 2022.ipynb",
      "provenance": []
    },
    "kernelspec": {
      "display_name": "Python 3 (ipykernel)",
      "language": "python",
      "name": "python3"
    },
    "language_info": {
      "codemirror_mode": {
        "name": "ipython",
        "version": 3
      },
      "file_extension": ".py",
      "mimetype": "text/x-python",
      "name": "python",
      "nbconvert_exporter": "python",
      "pygments_lexer": "ipython3",
      "version": "3.7.9"
    },
    "gpuClass": "standard"
  },
  "nbformat": 4,
  "nbformat_minor": 0
}